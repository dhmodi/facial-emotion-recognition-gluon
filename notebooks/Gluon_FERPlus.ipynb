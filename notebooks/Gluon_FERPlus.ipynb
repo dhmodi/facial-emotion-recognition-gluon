{
 "cells": [
  {
   "cell_type": "code",
   "execution_count": 5,
   "metadata": {
    "slideshow": {
     "slide_type": "skip"
    }
   },
   "outputs": [],
   "source": [
    "import numpy as np\n",
    "import mxnet as mx\n",
    "from mxnet import nd, autograd, gluon"
   ]
  },
  {
   "cell_type": "markdown",
   "metadata": {
    "slideshow": {
     "slide_type": "skip"
    }
   },
   "source": [
    "![image.png](../assets/data_prep_wf.png)"
   ]
  },
  {
   "cell_type": "markdown",
   "metadata": {
    "slideshow": {
     "slide_type": "slide"
    }
   },
   "source": [
    "# Raw Data - FER2013\n",
    "* 48 X 48 gray scale images\n",
    "* 28,709 training samples\n",
    "* 3,589 validation data\n",
    "* 3,589 test data\n",
    "* 7 emotion labels (0=Angry, 1=Disgust, 2=Fear, 3=Happy, 4=Sad, 5=Surprise, 6=Neutral)\n",
    "* ~60-65% human accuracy in labelling\n",
    "\n",
    "![image.png](../assets/test_raw_data.png)\n"
   ]
  },
  {
   "cell_type": "markdown",
   "metadata": {
    "slideshow": {
     "slide_type": "notes"
    }
   },
   "source": [
    "https://www.kaggle.com/c/challenges-in-representation-learning-facial-expression-recognition-challenge/data"
   ]
  },
  {
   "cell_type": "markdown",
   "metadata": {
    "slideshow": {
     "slide_type": "slide"
    }
   },
   "source": [
    "\n",
    "# Data Preparation is Critical\n",
    "* State of the Art accuracy using a Convolutional Neural Network (CNN) model directly on this raw data is **63%** [1].\n",
    "* State of the Art accuracy using a slightly modified Convolutional Neural Network (CNN) model after processing the data is **83%** [2]."
   ]
  },
  {
   "cell_type": "markdown",
   "metadata": {
    "slideshow": {
     "slide_type": "slide"
    }
   },
   "source": [
    "## Process Data - FER+\n",
    "\n",
    "* FER+ has new corrected labels that are crowd sourced\n",
    "* FER+ has 8 emotions - (0: 'neutral', 1: 'happiness', 2: 'surprise', 3: 'sadness', 4: 'anger', 5: 'disgust', 6: 'fear',7: 'contempt')"
   ]
  },
  {
   "cell_type": "markdown",
   "metadata": {
    "slideshow": {
     "slide_type": "subslide"
    }
   },
   "source": [
    "## Image augmentations:\n",
    "    * Crop faces in the images – bounding box in the FER+ dataset\n",
    "    * Scale image size from 48 X 48 -> 64 X 64\n",
    "    * Shift image\n",
    "    * Flip image\n",
    "    * Rotate (angle) image\n",
    "    * Normalize the pixels in the image"
   ]
  },
  {
   "cell_type": "markdown",
   "metadata": {
    "slideshow": {
     "slide_type": "notes"
    }
   },
   "source": [
    "To preprocess follow the instructions listed in the README file - https://github.com/TalkAI/facial-emotion-recognition-gluon#step-1---data-preparation"
   ]
  },
  {
   "cell_type": "markdown",
   "metadata": {
    "slideshow": {
     "slide_type": "skip"
    }
   },
   "source": [
    "| Emotion  | Train  | Val  |  Test |\n",
    "|---|---|---|---|\n",
    "| neutral  |8733   |  1180 | 1083  |\n",
    "| happiness  | 7284  | 862  | 892  |\n",
    "| surprise  | 3136  | 411  | 394  |\n",
    "| sadness  | 3022  | 348  | 382  |\n",
    "| anger  | 2098  |  289 |  269 |\n",
    "| disgust  | 116  | 25  | 16  |\n",
    "| fear  | 536  | 60  | 86  |\n",
    "| comtempt  | 120  | 16  | 15  |"
   ]
  },
  {
   "cell_type": "code",
   "execution_count": 6,
   "metadata": {
    "slideshow": {
     "slide_type": "skip"
    }
   },
   "outputs": [],
   "source": [
    "# 8 Emotions we want to recognize\n",
    "emotion_table = {0: 'neutral',\n",
    "                 1: 'happiness',\n",
    "                 2: 'surprise',\n",
    "                 3: 'sadness',\n",
    "                 4: 'anger',\n",
    "                 5: 'disgust',\n",
    "                 6: 'fear',\n",
    "                 7: 'contempt'}"
   ]
  },
  {
   "cell_type": "code",
   "execution_count": 7,
   "metadata": {
    "slideshow": {
     "slide_type": "slide"
    }
   },
   "outputs": [],
   "source": [
    "processed_train_images = np.load('../data/fer_train_processed_images.npy')\n",
    "processed_train_labels = np.load('../data/fer_train_processed_labels.npy')"
   ]
  },
  {
   "cell_type": "code",
   "execution_count": 8,
   "metadata": {
    "slideshow": {
     "slide_type": "slide"
    }
   },
   "outputs": [
    {
     "name": "stdout",
     "output_type": "stream",
     "text": [
      "(25045, 1, 64, 64) (25045, 8)\n"
     ]
    }
   ],
   "source": [
    "print(processed_train_images.shape, processed_train_labels.shape)"
   ]
  },
  {
   "cell_type": "code",
   "execution_count": 9,
   "metadata": {
    "slideshow": {
     "slide_type": "skip"
    }
   },
   "outputs": [],
   "source": [
    "from matplotlib import pyplot as plt"
   ]
  },
  {
   "cell_type": "code",
   "execution_count": 10,
   "metadata": {
    "slideshow": {
     "slide_type": "slide"
    }
   },
   "outputs": [
    {
     "data": {
      "text/plain": [
       "<matplotlib.image.AxesImage at 0x109d46940>"
      ]
     },
     "execution_count": 10,
     "metadata": {},
     "output_type": "execute_result"
    },
    {
     "data": {
      "image/png": "[encoded data removed]",
      "text/plain": [
       "<Figure size 432x288 with 1 Axes>"
      ]
     },
     "metadata": {},
     "output_type": "display_data"
    }
   ],
   "source": [
    "plt.imshow(processed_train_images[987].reshape(64,64), cmap='gray')"
   ]
  },
  {
   "cell_type": "code",
   "execution_count": 11,
   "metadata": {
    "slideshow": {
     "slide_type": "slide"
    }
   },
   "outputs": [],
   "source": [
    "processed_test_images = np.load('../data/fer_test_processed_images.npy')\n",
    "processed_test_labels = np.load('../data/fer_test_processed_labels.npy')\n",
    "processed_val_images = np.load('../data/fer_val_processed_images.npy')\n",
    "processed_val_labels = np.load('../data/fer_val_processed_labels.npy')"
   ]
  },
  {
   "cell_type": "code",
   "execution_count": 12,
   "metadata": {
    "slideshow": {
     "slide_type": "slide"
    }
   },
   "outputs": [
    {
     "name": "stdout",
     "output_type": "stream",
     "text": [
      "(3137, 1, 64, 64) (3137, 8)\n"
     ]
    }
   ],
   "source": [
    "print(processed_test_images.shape, processed_test_labels.shape)"
   ]
  },
  {
   "cell_type": "code",
   "execution_count": 13,
   "metadata": {
    "slideshow": {
     "slide_type": "slide"
    }
   },
   "outputs": [
    {
     "name": "stdout",
     "output_type": "stream",
     "text": [
      "(3191, 1, 64, 64) (3191, 8)\n"
     ]
    }
   ],
   "source": [
    "print(processed_val_images.shape, processed_val_labels.shape)"
   ]
  },
  {
   "cell_type": "code",
   "execution_count": 14,
   "metadata": {
    "slideshow": {
     "slide_type": "skip"
    }
   },
   "outputs": [],
   "source": [
    "# Sets context to GPU, if available. Otherwise sets to CPU.\n",
    "# Note that training on one GPU takes approx. 1.1 minute per epoch, and may take longer on CPU\n",
    "\n",
    "ctx = mx.gpu() if mx.test_utils.list_gpus() else mx.cpu()"
   ]
  },
  {
   "cell_type": "markdown",
   "metadata": {
    "slideshow": {
     "slide_type": "skip"
    }
   },
   "source": [
    "![image.png](../assets/model_training_prep_wf.png)"
   ]
  },
  {
   "cell_type": "markdown",
   "metadata": {
    "slideshow": {
     "slide_type": "slide"
    }
   },
   "source": [
    "# Step 1 – Construct the Neural Network"
   ]
  },
  {
   "cell_type": "markdown",
   "metadata": {
    "slideshow": {
     "slide_type": "fragment"
    }
   },
   "source": [
    "### 13 layer VGGNet presented in the paper [2]\n",
    "![image.png](../assets/network.png)"
   ]
  },
  {
   "cell_type": "code",
   "execution_count": 15,
   "metadata": {
    "slideshow": {
     "slide_type": "slide"
    }
   },
   "outputs": [],
   "source": [
    "# We use HybridSequential network type to able to save the trained model as symbols and params.\n",
    "# More Info - https://mxnet.incubator.apache.org/tutorials/gluon/save_load_params.html\n",
    "net = gluon.nn.HybridSequential()\n",
    "\n",
    "# Construct 13 layer VGGNet suggested in the paper\n",
    "with net.name_scope():\n",
    "    net.add(gluon.nn.Conv2D(channels=64, kernel_size=3, padding=(1,1), activation='relu'))\n",
    "    net.add(gluon.nn.Conv2D(channels=64, kernel_size=3, padding=(1,1), activation='relu'))\n",
    "    net.add(gluon.nn.MaxPool2D(pool_size=2, strides=2))\n",
    "    net.add(gluon.nn.Dropout(0.25))\n",
    "    \n",
    "    net.add(gluon.nn.Conv2D(channels=128, kernel_size=3, padding=(1,1), activation='relu'))\n",
    "    net.add(gluon.nn.Conv2D(channels=128, kernel_size=3, padding=(1,1), activation='relu'))\n",
    "    net.add(gluon.nn.MaxPool2D(pool_size=2, strides=2))\n",
    "    net.add(gluon.nn.Dropout(0.25))\n",
    "    \n",
    "    net.add(gluon.nn.Conv2D(channels=256, kernel_size=3, padding=(1,1), activation='relu'))\n",
    "    net.add(gluon.nn.Conv2D(channels=256, kernel_size=3, padding=(1,1), activation='relu'))\n",
    "    net.add(gluon.nn.Conv2D(channels=256, kernel_size=3, padding=(1,1), activation='relu'))\n",
    "    net.add(gluon.nn.MaxPool2D(pool_size=2, strides=2))\n",
    "    net.add(gluon.nn.Dropout(0.25))\n",
    "    \n",
    "    net.add(gluon.nn.Conv2D(channels=256, kernel_size=3, padding=(1,1), activation='relu'))\n",
    "    net.add(gluon.nn.Conv2D(channels=256, kernel_size=3, padding=(1,1), activation='relu'))\n",
    "    net.add(gluon.nn.Conv2D(channels=256, kernel_size=3, padding=(1,1), activation='relu'))\n",
    "    net.add(gluon.nn.MaxPool2D(pool_size=2, strides=2))\n",
    "    net.add(gluon.nn.Dropout(0.25))\n",
    "    \n",
    "    net.add(gluon.nn.Flatten())\n",
    "    net.add(gluon.nn.Dense(1024, activation='relu'))\n",
    "    net.add(gluon.nn.Dropout(0.5))\n",
    "    net.add(gluon.nn.Dense(1024, activation='relu'))\n",
    "    net.add(gluon.nn.Dropout(0.5))\n",
    "    net.add(gluon.nn.Dense(8))"
   ]
  },
  {
   "cell_type": "code",
   "execution_count": 16,
   "metadata": {
    "slideshow": {
     "slide_type": "slide"
    }
   },
   "outputs": [],
   "source": [
    "# We Hybridize the HybridSequential network to able to save the trained model as symbols and params.\n",
    "# More Info - https://mxnet.incubator.apache.org/tutorials/gluon/save_load_params.html\n",
    "net.hybridize()"
   ]
  },
  {
   "cell_type": "markdown",
   "metadata": {
    "slideshow": {
     "slide_type": "slide"
    }
   },
   "source": [
    "# Step 2 – Initialize the parameters in Neural Network"
   ]
  },
  {
   "cell_type": "code",
   "execution_count": 17,
   "metadata": {
    "slideshow": {
     "slide_type": "fragment"
    }
   },
   "outputs": [],
   "source": [
    "net.collect_params().initialize(mx.init.Xavier(), ctx=ctx)\n",
    "nd.waitall()"
   ]
  },
  {
   "cell_type": "code",
   "execution_count": 18,
   "metadata": {
    "slideshow": {
     "slide_type": "skip"
    }
   },
   "outputs": [
    {
     "data": {
      "image/svg+xml": [
       "<?xml version=\"1.0\" encoding=\"UTF-8\" standalone=\"no\"?>\n",
       "<!DOCTYPE svg PUBLIC \"-//W3C//DTD SVG 1.1//EN\"\n",
       " \"http://www.w3.org/Graphics/SVG/1.1/DTD/svg11.dtd\">\n",
       "<!-- Generated by graphviz version 2.40.1 (20161225.0304)\n",
       " -->\n",
       "<!-- Title: plot Pages: 1 -->\n",
       "<svg width=\"102pt\" height=\"3450pt\"\n",
       " viewBox=\"0.00 0.00 102.00 3450.00\" xmlns=\"http://www.w3.org/2000/svg\" xmlns:xlink=\"http://www.w3.org/1999/xlink\">\n",
       "<g id=\"graph0\" class=\"graph\" transform=\"scale(1 1) rotate(0) translate(4 3446)\">\n",
       "<title>plot</title>\n",
       "<polygon fill=\"#ffffff\" stroke=\"transparent\" points=\"-4,4 -4,-3446 98,-3446 98,4 -4,4\"/>\n",
       "<!-- data -->\n",
       "<g id=\"node1\" class=\"node\">\n",
       "<title>data</title>\n",
       "<ellipse fill=\"#8dd3c7\" stroke=\"#000000\" cx=\"47\" cy=\"-29\" rx=\"47\" ry=\"29\"/>\n",
       "<text text-anchor=\"middle\" x=\"47\" y=\"-24.8\" font-family=\"Times,serif\" font-size=\"14.00\" fill=\"#000000\">data</text>\n",
       "</g>\n",
       "<!-- hybridsequential0_conv0_fwd -->\n",
       "<g id=\"node2\" class=\"node\">\n",
       "<title>hybridsequential0_conv0_fwd</title>\n",
       "<polygon fill=\"#fb8072\" stroke=\"#000000\" points=\"94,-152 0,-152 0,-94 94,-94 94,-152\"/>\n",
       "<text text-anchor=\"middle\" x=\"47\" y=\"-125.8\" font-family=\"Times,serif\" font-size=\"14.00\" fill=\"#000000\">Convolution</text>\n",
       "<text text-anchor=\"middle\" x=\"47\" y=\"-111.8\" font-family=\"Times,serif\" font-size=\"14.00\" fill=\"#000000\">3x3/1x1, 64</text>\n",
       "</g>\n",
       "<!-- hybridsequential0_conv0_fwd&#45;&gt;data -->\n",
       "<g id=\"edge1\" class=\"edge\">\n",
       "<title>hybridsequential0_conv0_fwd&#45;&gt;data</title>\n",
       "<path fill=\"none\" stroke=\"#000000\" d=\"M47,-83.6321C47,-75.1148 47,-66.2539 47,-58.2088\"/>\n",
       "<polygon fill=\"#000000\" stroke=\"#000000\" points=\"47,-93.7731 42.5001,-83.773 47,-88.7731 47.0001,-83.7731 47.0001,-83.7731 47.0001,-83.7731 47,-88.7731 51.5001,-83.7731 47,-93.7731 47,-93.7731\"/>\n",
       "</g>\n",
       "<!-- hybridsequential0_conv0_relu_fwd -->\n",
       "<g id=\"node3\" class=\"node\">\n",
       "<title>hybridsequential0_conv0_relu_fwd</title>\n",
       "<polygon fill=\"#ffffb3\" stroke=\"#000000\" points=\"94,-246 0,-246 0,-188 94,-188 94,-246\"/>\n",
       "<text text-anchor=\"middle\" x=\"47\" y=\"-219.8\" font-family=\"Times,serif\" font-size=\"14.00\" fill=\"#000000\">Activation</text>\n",
       "<text text-anchor=\"middle\" x=\"47\" y=\"-205.8\" font-family=\"Times,serif\" font-size=\"14.00\" fill=\"#000000\">relu</text>\n",
       "</g>\n",
       "<!-- hybridsequential0_conv0_relu_fwd&#45;&gt;hybridsequential0_conv0_fwd -->\n",
       "<g id=\"edge2\" class=\"edge\">\n",
       "<title>hybridsequential0_conv0_relu_fwd&#45;&gt;hybridsequential0_conv0_fwd</title>\n",
       "<path fill=\"none\" stroke=\"#000000\" d=\"M47,-177.6321C47,-169.1148 47,-160.2539 47,-152.2088\"/>\n",
       "<polygon fill=\"#000000\" stroke=\"#000000\" points=\"47,-187.7731 42.5001,-177.773 47,-182.7731 47.0001,-177.7731 47.0001,-177.7731 47.0001,-177.7731 47,-182.7731 51.5001,-177.7731 47,-187.7731 47,-187.7731\"/>\n",
       "</g>\n",
       "<!-- hybridsequential0_conv1_fwd -->\n",
       "<g id=\"node4\" class=\"node\">\n",
       "<title>hybridsequential0_conv1_fwd</title>\n",
       "<polygon fill=\"#fb8072\" stroke=\"#000000\" points=\"94,-340 0,-340 0,-282 94,-282 94,-340\"/>\n",
       "<text text-anchor=\"middle\" x=\"47\" y=\"-313.8\" font-family=\"Times,serif\" font-size=\"14.00\" fill=\"#000000\">Convolution</text>\n",
       "<text text-anchor=\"middle\" x=\"47\" y=\"-299.8\" font-family=\"Times,serif\" font-size=\"14.00\" fill=\"#000000\">3x3/1x1, 64</text>\n",
       "</g>\n",
       "<!-- hybridsequential0_conv1_fwd&#45;&gt;hybridsequential0_conv0_relu_fwd -->\n",
       "<g id=\"edge3\" class=\"edge\">\n",
       "<title>hybridsequential0_conv1_fwd&#45;&gt;hybridsequential0_conv0_relu_fwd</title>\n",
       "<path fill=\"none\" stroke=\"#000000\" d=\"M47,-271.6321C47,-263.1148 47,-254.2539 47,-246.2088\"/>\n",
       "<polygon fill=\"#000000\" stroke=\"#000000\" points=\"47,-281.7731 42.5001,-271.773 47,-276.7731 47.0001,-271.7731 47.0001,-271.7731 47.0001,-271.7731 47,-276.7731 51.5001,-271.7731 47,-281.7731 47,-281.7731\"/>\n",
       "</g>\n",
       "<!-- hybridsequential0_conv1_relu_fwd -->\n",
       "<g id=\"node5\" class=\"node\">\n",
       "<title>hybridsequential0_conv1_relu_fwd</title>\n",
       "<polygon fill=\"#ffffb3\" stroke=\"#000000\" points=\"94,-434 0,-434 0,-376 94,-376 94,-434\"/>\n",
       "<text text-anchor=\"middle\" x=\"47\" y=\"-407.8\" font-family=\"Times,serif\" font-size=\"14.00\" fill=\"#000000\">Activation</text>\n",
       "<text text-anchor=\"middle\" x=\"47\" y=\"-393.8\" font-family=\"Times,serif\" font-size=\"14.00\" fill=\"#000000\">relu</text>\n",
       "</g>\n",
       "<!-- hybridsequential0_conv1_relu_fwd&#45;&gt;hybridsequential0_conv1_fwd -->\n",
       "<g id=\"edge4\" class=\"edge\">\n",
       "<title>hybridsequential0_conv1_relu_fwd&#45;&gt;hybridsequential0_conv1_fwd</title>\n",
       "<path fill=\"none\" stroke=\"#000000\" d=\"M47,-365.6321C47,-357.1148 47,-348.2539 47,-340.2088\"/>\n",
       "<polygon fill=\"#000000\" stroke=\"#000000\" points=\"47,-375.7731 42.5001,-365.773 47,-370.7731 47.0001,-365.7731 47.0001,-365.7731 47.0001,-365.7731 47,-370.7731 51.5001,-365.7731 47,-375.7731 47,-375.7731\"/>\n",
       "</g>\n",
       "<!-- hybridsequential0_pool0_fwd -->\n",
       "<g id=\"node6\" class=\"node\">\n",
       "<title>hybridsequential0_pool0_fwd</title>\n",
       "<polygon fill=\"#80b1d3\" stroke=\"#000000\" points=\"94,-528 0,-528 0,-470 94,-470 94,-528\"/>\n",
       "<text text-anchor=\"middle\" x=\"47\" y=\"-501.8\" font-family=\"Times,serif\" font-size=\"14.00\" fill=\"#000000\">Pooling</text>\n",
       "<text text-anchor=\"middle\" x=\"47\" y=\"-487.8\" font-family=\"Times,serif\" font-size=\"14.00\" fill=\"#000000\">max, 2x2/2x2</text>\n",
       "</g>\n",
       "<!-- hybridsequential0_pool0_fwd&#45;&gt;hybridsequential0_conv1_relu_fwd -->\n",
       "<g id=\"edge5\" class=\"edge\">\n",
       "<title>hybridsequential0_pool0_fwd&#45;&gt;hybridsequential0_conv1_relu_fwd</title>\n",
       "<path fill=\"none\" stroke=\"#000000\" d=\"M47,-459.6321C47,-451.1148 47,-442.2539 47,-434.2088\"/>\n",
       "<polygon fill=\"#000000\" stroke=\"#000000\" points=\"47,-469.7731 42.5001,-459.773 47,-464.7731 47.0001,-459.7731 47.0001,-459.7731 47.0001,-459.7731 47,-464.7731 51.5001,-459.7731 47,-469.7731 47,-469.7731\"/>\n",
       "</g>\n",
       "<!-- hybridsequential0_dropout0_fwd -->\n",
       "<g id=\"node7\" class=\"node\">\n",
       "<title>hybridsequential0_dropout0_fwd</title>\n",
       "<polygon fill=\"#fccde5\" stroke=\"#000000\" points=\"94,-622 0,-622 0,-564 94,-564 94,-622\"/>\n",
       "<text text-anchor=\"middle\" x=\"47\" y=\"-588.8\" font-family=\"Times,serif\" font-size=\"14.00\" fill=\"#000000\">hybridsequential0_dropout0_fwd</text>\n",
       "</g>\n",
       "<!-- hybridsequential0_dropout0_fwd&#45;&gt;hybridsequential0_pool0_fwd -->\n",
       "<g id=\"edge6\" class=\"edge\">\n",
       "<title>hybridsequential0_dropout0_fwd&#45;&gt;hybridsequential0_pool0_fwd</title>\n",
       "<path fill=\"none\" stroke=\"#000000\" d=\"M47,-553.6321C47,-545.1148 47,-536.2539 47,-528.2088\"/>\n",
       "<polygon fill=\"#000000\" stroke=\"#000000\" points=\"47,-563.7731 42.5001,-553.773 47,-558.7731 47.0001,-553.7731 47.0001,-553.7731 47.0001,-553.7731 47,-558.7731 51.5001,-553.7731 47,-563.7731 47,-563.7731\"/>\n",
       "</g>\n",
       "<!-- hybridsequential0_conv2_fwd -->\n",
       "<g id=\"node8\" class=\"node\">\n",
       "<title>hybridsequential0_conv2_fwd</title>\n",
       "<polygon fill=\"#fb8072\" stroke=\"#000000\" points=\"94,-716 0,-716 0,-658 94,-658 94,-716\"/>\n",
       "<text text-anchor=\"middle\" x=\"47\" y=\"-689.8\" font-family=\"Times,serif\" font-size=\"14.00\" fill=\"#000000\">Convolution</text>\n",
       "<text text-anchor=\"middle\" x=\"47\" y=\"-675.8\" font-family=\"Times,serif\" font-size=\"14.00\" fill=\"#000000\">3x3/1x1, 128</text>\n",
       "</g>\n",
       "<!-- hybridsequential0_conv2_fwd&#45;&gt;hybridsequential0_dropout0_fwd -->\n",
       "<g id=\"edge7\" class=\"edge\">\n",
       "<title>hybridsequential0_conv2_fwd&#45;&gt;hybridsequential0_dropout0_fwd</title>\n",
       "<path fill=\"none\" stroke=\"#000000\" d=\"M47,-647.6321C47,-639.1148 47,-630.2539 47,-622.2088\"/>\n",
       "<polygon fill=\"#000000\" stroke=\"#000000\" points=\"47,-657.7731 42.5001,-647.773 47,-652.7731 47.0001,-647.7731 47.0001,-647.7731 47.0001,-647.7731 47,-652.7731 51.5001,-647.7731 47,-657.7731 47,-657.7731\"/>\n",
       "</g>\n",
       "<!-- hybridsequential0_conv2_relu_fwd -->\n",
       "<g id=\"node9\" class=\"node\">\n",
       "<title>hybridsequential0_conv2_relu_fwd</title>\n",
       "<polygon fill=\"#ffffb3\" stroke=\"#000000\" points=\"94,-810 0,-810 0,-752 94,-752 94,-810\"/>\n",
       "<text text-anchor=\"middle\" x=\"47\" y=\"-783.8\" font-family=\"Times,serif\" font-size=\"14.00\" fill=\"#000000\">Activation</text>\n",
       "<text text-anchor=\"middle\" x=\"47\" y=\"-769.8\" font-family=\"Times,serif\" font-size=\"14.00\" fill=\"#000000\">relu</text>\n",
       "</g>\n",
       "<!-- hybridsequential0_conv2_relu_fwd&#45;&gt;hybridsequential0_conv2_fwd -->\n",
       "<g id=\"edge8\" class=\"edge\">\n",
       "<title>hybridsequential0_conv2_relu_fwd&#45;&gt;hybridsequential0_conv2_fwd</title>\n",
       "<path fill=\"none\" stroke=\"#000000\" d=\"M47,-741.6321C47,-733.1148 47,-724.2539 47,-716.2088\"/>\n",
       "<polygon fill=\"#000000\" stroke=\"#000000\" points=\"47,-751.7731 42.5001,-741.773 47,-746.7731 47.0001,-741.7731 47.0001,-741.7731 47.0001,-741.7731 47,-746.7731 51.5001,-741.7731 47,-751.7731 47,-751.7731\"/>\n",
       "</g>\n",
       "<!-- hybridsequential0_conv3_fwd -->\n",
       "<g id=\"node10\" class=\"node\">\n",
       "<title>hybridsequential0_conv3_fwd</title>\n",
       "<polygon fill=\"#fb8072\" stroke=\"#000000\" points=\"94,-904 0,-904 0,-846 94,-846 94,-904\"/>\n",
       "<text text-anchor=\"middle\" x=\"47\" y=\"-877.8\" font-family=\"Times,serif\" font-size=\"14.00\" fill=\"#000000\">Convolution</text>\n",
       "<text text-anchor=\"middle\" x=\"47\" y=\"-863.8\" font-family=\"Times,serif\" font-size=\"14.00\" fill=\"#000000\">3x3/1x1, 128</text>\n",
       "</g>\n",
       "<!-- hybridsequential0_conv3_fwd&#45;&gt;hybridsequential0_conv2_relu_fwd -->\n",
       "<g id=\"edge9\" class=\"edge\">\n",
       "<title>hybridsequential0_conv3_fwd&#45;&gt;hybridsequential0_conv2_relu_fwd</title>\n",
       "<path fill=\"none\" stroke=\"#000000\" d=\"M47,-835.6321C47,-827.1148 47,-818.2539 47,-810.2088\"/>\n",
       "<polygon fill=\"#000000\" stroke=\"#000000\" points=\"47,-845.7731 42.5001,-835.773 47,-840.7731 47.0001,-835.7731 47.0001,-835.7731 47.0001,-835.7731 47,-840.7731 51.5001,-835.7731 47,-845.7731 47,-845.7731\"/>\n",
       "</g>\n",
       "<!-- hybridsequential0_conv3_relu_fwd -->\n",
       "<g id=\"node11\" class=\"node\">\n",
       "<title>hybridsequential0_conv3_relu_fwd</title>\n",
       "<polygon fill=\"#ffffb3\" stroke=\"#000000\" points=\"94,-998 0,-998 0,-940 94,-940 94,-998\"/>\n",
       "<text text-anchor=\"middle\" x=\"47\" y=\"-971.8\" font-family=\"Times,serif\" font-size=\"14.00\" fill=\"#000000\">Activation</text>\n",
       "<text text-anchor=\"middle\" x=\"47\" y=\"-957.8\" font-family=\"Times,serif\" font-size=\"14.00\" fill=\"#000000\">relu</text>\n",
       "</g>\n",
       "<!-- hybridsequential0_conv3_relu_fwd&#45;&gt;hybridsequential0_conv3_fwd -->\n",
       "<g id=\"edge10\" class=\"edge\">\n",
       "<title>hybridsequential0_conv3_relu_fwd&#45;&gt;hybridsequential0_conv3_fwd</title>\n",
       "<path fill=\"none\" stroke=\"#000000\" d=\"M47,-929.6321C47,-921.1148 47,-912.2539 47,-904.2088\"/>\n",
       "<polygon fill=\"#000000\" stroke=\"#000000\" points=\"47,-939.7731 42.5001,-929.773 47,-934.7731 47.0001,-929.7731 47.0001,-929.7731 47.0001,-929.7731 47,-934.7731 51.5001,-929.7731 47,-939.7731 47,-939.7731\"/>\n",
       "</g>\n",
       "<!-- hybridsequential0_pool1_fwd -->\n",
       "<g id=\"node12\" class=\"node\">\n",
       "<title>hybridsequential0_pool1_fwd</title>\n",
       "<polygon fill=\"#80b1d3\" stroke=\"#000000\" points=\"94,-1092 0,-1092 0,-1034 94,-1034 94,-1092\"/>\n",
       "<text text-anchor=\"middle\" x=\"47\" y=\"-1065.8\" font-family=\"Times,serif\" font-size=\"14.00\" fill=\"#000000\">Pooling</text>\n",
       "<text text-anchor=\"middle\" x=\"47\" y=\"-1051.8\" font-family=\"Times,serif\" font-size=\"14.00\" fill=\"#000000\">max, 2x2/2x2</text>\n",
       "</g>\n",
       "<!-- hybridsequential0_pool1_fwd&#45;&gt;hybridsequential0_conv3_relu_fwd -->\n",
       "<g id=\"edge11\" class=\"edge\">\n",
       "<title>hybridsequential0_pool1_fwd&#45;&gt;hybridsequential0_conv3_relu_fwd</title>\n",
       "<path fill=\"none\" stroke=\"#000000\" d=\"M47,-1023.6321C47,-1015.1148 47,-1006.2539 47,-998.2088\"/>\n",
       "<polygon fill=\"#000000\" stroke=\"#000000\" points=\"47,-1033.7731 42.5001,-1023.773 47,-1028.7731 47.0001,-1023.7731 47.0001,-1023.7731 47.0001,-1023.7731 47,-1028.7731 51.5001,-1023.7731 47,-1033.7731 47,-1033.7731\"/>\n",
       "</g>\n",
       "<!-- hybridsequential0_dropout1_fwd -->\n",
       "<g id=\"node13\" class=\"node\">\n",
       "<title>hybridsequential0_dropout1_fwd</title>\n",
       "<polygon fill=\"#fccde5\" stroke=\"#000000\" points=\"94,-1186 0,-1186 0,-1128 94,-1128 94,-1186\"/>\n",
       "<text text-anchor=\"middle\" x=\"47\" y=\"-1152.8\" font-family=\"Times,serif\" font-size=\"14.00\" fill=\"#000000\">hybridsequential0_dropout1_fwd</text>\n",
       "</g>\n",
       "<!-- hybridsequential0_dropout1_fwd&#45;&gt;hybridsequential0_pool1_fwd -->\n",
       "<g id=\"edge12\" class=\"edge\">\n",
       "<title>hybridsequential0_dropout1_fwd&#45;&gt;hybridsequential0_pool1_fwd</title>\n",
       "<path fill=\"none\" stroke=\"#000000\" d=\"M47,-1117.6321C47,-1109.1148 47,-1100.2539 47,-1092.2088\"/>\n",
       "<polygon fill=\"#000000\" stroke=\"#000000\" points=\"47,-1127.7731 42.5001,-1117.773 47,-1122.7731 47.0001,-1117.7731 47.0001,-1117.7731 47.0001,-1117.7731 47,-1122.7731 51.5001,-1117.7731 47,-1127.7731 47,-1127.7731\"/>\n",
       "</g>\n",
       "<!-- hybridsequential0_conv4_fwd -->\n",
       "<g id=\"node14\" class=\"node\">\n",
       "<title>hybridsequential0_conv4_fwd</title>\n",
       "<polygon fill=\"#fb8072\" stroke=\"#000000\" points=\"94,-1280 0,-1280 0,-1222 94,-1222 94,-1280\"/>\n",
       "<text text-anchor=\"middle\" x=\"47\" y=\"-1253.8\" font-family=\"Times,serif\" font-size=\"14.00\" fill=\"#000000\">Convolution</text>\n",
       "<text text-anchor=\"middle\" x=\"47\" y=\"-1239.8\" font-family=\"Times,serif\" font-size=\"14.00\" fill=\"#000000\">3x3/1x1, 256</text>\n",
       "</g>\n",
       "<!-- hybridsequential0_conv4_fwd&#45;&gt;hybridsequential0_dropout1_fwd -->\n",
       "<g id=\"edge13\" class=\"edge\">\n",
       "<title>hybridsequential0_conv4_fwd&#45;&gt;hybridsequential0_dropout1_fwd</title>\n",
       "<path fill=\"none\" stroke=\"#000000\" d=\"M47,-1211.6321C47,-1203.1148 47,-1194.2539 47,-1186.2088\"/>\n",
       "<polygon fill=\"#000000\" stroke=\"#000000\" points=\"47,-1221.7731 42.5001,-1211.773 47,-1216.7731 47.0001,-1211.7731 47.0001,-1211.7731 47.0001,-1211.7731 47,-1216.7731 51.5001,-1211.7731 47,-1221.7731 47,-1221.7731\"/>\n",
       "</g>\n",
       "<!-- hybridsequential0_conv4_relu_fwd -->\n",
       "<g id=\"node15\" class=\"node\">\n",
       "<title>hybridsequential0_conv4_relu_fwd</title>\n",
       "<polygon fill=\"#ffffb3\" stroke=\"#000000\" points=\"94,-1374 0,-1374 0,-1316 94,-1316 94,-1374\"/>\n",
       "<text text-anchor=\"middle\" x=\"47\" y=\"-1347.8\" font-family=\"Times,serif\" font-size=\"14.00\" fill=\"#000000\">Activation</text>\n",
       "<text text-anchor=\"middle\" x=\"47\" y=\"-1333.8\" font-family=\"Times,serif\" font-size=\"14.00\" fill=\"#000000\">relu</text>\n",
       "</g>\n",
       "<!-- hybridsequential0_conv4_relu_fwd&#45;&gt;hybridsequential0_conv4_fwd -->\n",
       "<g id=\"edge14\" class=\"edge\">\n",
       "<title>hybridsequential0_conv4_relu_fwd&#45;&gt;hybridsequential0_conv4_fwd</title>\n",
       "<path fill=\"none\" stroke=\"#000000\" d=\"M47,-1305.6321C47,-1297.1148 47,-1288.2539 47,-1280.2088\"/>\n",
       "<polygon fill=\"#000000\" stroke=\"#000000\" points=\"47,-1315.7731 42.5001,-1305.773 47,-1310.7731 47.0001,-1305.7731 47.0001,-1305.7731 47.0001,-1305.7731 47,-1310.7731 51.5001,-1305.7731 47,-1315.7731 47,-1315.7731\"/>\n",
       "</g>\n",
       "<!-- hybridsequential0_conv5_fwd -->\n",
       "<g id=\"node16\" class=\"node\">\n",
       "<title>hybridsequential0_conv5_fwd</title>\n",
       "<polygon fill=\"#fb8072\" stroke=\"#000000\" points=\"94,-1468 0,-1468 0,-1410 94,-1410 94,-1468\"/>\n",
       "<text text-anchor=\"middle\" x=\"47\" y=\"-1441.8\" font-family=\"Times,serif\" font-size=\"14.00\" fill=\"#000000\">Convolution</text>\n",
       "<text text-anchor=\"middle\" x=\"47\" y=\"-1427.8\" font-family=\"Times,serif\" font-size=\"14.00\" fill=\"#000000\">3x3/1x1, 256</text>\n",
       "</g>\n",
       "<!-- hybridsequential0_conv5_fwd&#45;&gt;hybridsequential0_conv4_relu_fwd -->\n",
       "<g id=\"edge15\" class=\"edge\">\n",
       "<title>hybridsequential0_conv5_fwd&#45;&gt;hybridsequential0_conv4_relu_fwd</title>\n",
       "<path fill=\"none\" stroke=\"#000000\" d=\"M47,-1399.6321C47,-1391.1148 47,-1382.2539 47,-1374.2088\"/>\n",
       "<polygon fill=\"#000000\" stroke=\"#000000\" points=\"47,-1409.7731 42.5001,-1399.773 47,-1404.7731 47.0001,-1399.7731 47.0001,-1399.7731 47.0001,-1399.7731 47,-1404.7731 51.5001,-1399.7731 47,-1409.7731 47,-1409.7731\"/>\n",
       "</g>\n",
       "<!-- hybridsequential0_conv5_relu_fwd -->\n",
       "<g id=\"node17\" class=\"node\">\n",
       "<title>hybridsequential0_conv5_relu_fwd</title>\n",
       "<polygon fill=\"#ffffb3\" stroke=\"#000000\" points=\"94,-1562 0,-1562 0,-1504 94,-1504 94,-1562\"/>\n",
       "<text text-anchor=\"middle\" x=\"47\" y=\"-1535.8\" font-family=\"Times,serif\" font-size=\"14.00\" fill=\"#000000\">Activation</text>\n",
       "<text text-anchor=\"middle\" x=\"47\" y=\"-1521.8\" font-family=\"Times,serif\" font-size=\"14.00\" fill=\"#000000\">relu</text>\n",
       "</g>\n",
       "<!-- hybridsequential0_conv5_relu_fwd&#45;&gt;hybridsequential0_conv5_fwd -->\n",
       "<g id=\"edge16\" class=\"edge\">\n",
       "<title>hybridsequential0_conv5_relu_fwd&#45;&gt;hybridsequential0_conv5_fwd</title>\n",
       "<path fill=\"none\" stroke=\"#000000\" d=\"M47,-1493.6321C47,-1485.1148 47,-1476.2539 47,-1468.2088\"/>\n",
       "<polygon fill=\"#000000\" stroke=\"#000000\" points=\"47,-1503.7731 42.5001,-1493.773 47,-1498.7731 47.0001,-1493.7731 47.0001,-1493.7731 47.0001,-1493.7731 47,-1498.7731 51.5001,-1493.7731 47,-1503.7731 47,-1503.7731\"/>\n",
       "</g>\n",
       "<!-- hybridsequential0_conv6_fwd -->\n",
       "<g id=\"node18\" class=\"node\">\n",
       "<title>hybridsequential0_conv6_fwd</title>\n",
       "<polygon fill=\"#fb8072\" stroke=\"#000000\" points=\"94,-1656 0,-1656 0,-1598 94,-1598 94,-1656\"/>\n",
       "<text text-anchor=\"middle\" x=\"47\" y=\"-1629.8\" font-family=\"Times,serif\" font-size=\"14.00\" fill=\"#000000\">Convolution</text>\n",
       "<text text-anchor=\"middle\" x=\"47\" y=\"-1615.8\" font-family=\"Times,serif\" font-size=\"14.00\" fill=\"#000000\">3x3/1x1, 256</text>\n",
       "</g>\n",
       "<!-- hybridsequential0_conv6_fwd&#45;&gt;hybridsequential0_conv5_relu_fwd -->\n",
       "<g id=\"edge17\" class=\"edge\">\n",
       "<title>hybridsequential0_conv6_fwd&#45;&gt;hybridsequential0_conv5_relu_fwd</title>\n",
       "<path fill=\"none\" stroke=\"#000000\" d=\"M47,-1587.6321C47,-1579.1148 47,-1570.2539 47,-1562.2088\"/>\n",
       "<polygon fill=\"#000000\" stroke=\"#000000\" points=\"47,-1597.7731 42.5001,-1587.773 47,-1592.7731 47.0001,-1587.7731 47.0001,-1587.7731 47.0001,-1587.7731 47,-1592.7731 51.5001,-1587.7731 47,-1597.7731 47,-1597.7731\"/>\n",
       "</g>\n",
       "<!-- hybridsequential0_conv6_relu_fwd -->\n",
       "<g id=\"node19\" class=\"node\">\n",
       "<title>hybridsequential0_conv6_relu_fwd</title>\n",
       "<polygon fill=\"#ffffb3\" stroke=\"#000000\" points=\"94,-1750 0,-1750 0,-1692 94,-1692 94,-1750\"/>\n",
       "<text text-anchor=\"middle\" x=\"47\" y=\"-1723.8\" font-family=\"Times,serif\" font-size=\"14.00\" fill=\"#000000\">Activation</text>\n",
       "<text text-anchor=\"middle\" x=\"47\" y=\"-1709.8\" font-family=\"Times,serif\" font-size=\"14.00\" fill=\"#000000\">relu</text>\n",
       "</g>\n",
       "<!-- hybridsequential0_conv6_relu_fwd&#45;&gt;hybridsequential0_conv6_fwd -->\n",
       "<g id=\"edge18\" class=\"edge\">\n",
       "<title>hybridsequential0_conv6_relu_fwd&#45;&gt;hybridsequential0_conv6_fwd</title>\n",
       "<path fill=\"none\" stroke=\"#000000\" d=\"M47,-1681.6321C47,-1673.1148 47,-1664.2539 47,-1656.2088\"/>\n",
       "<polygon fill=\"#000000\" stroke=\"#000000\" points=\"47,-1691.7731 42.5001,-1681.773 47,-1686.7731 47.0001,-1681.7731 47.0001,-1681.7731 47.0001,-1681.7731 47,-1686.7731 51.5001,-1681.7731 47,-1691.7731 47,-1691.7731\"/>\n",
       "</g>\n",
       "<!-- hybridsequential0_pool2_fwd -->\n",
       "<g id=\"node20\" class=\"node\">\n",
       "<title>hybridsequential0_pool2_fwd</title>\n",
       "<polygon fill=\"#80b1d3\" stroke=\"#000000\" points=\"94,-1844 0,-1844 0,-1786 94,-1786 94,-1844\"/>\n",
       "<text text-anchor=\"middle\" x=\"47\" y=\"-1817.8\" font-family=\"Times,serif\" font-size=\"14.00\" fill=\"#000000\">Pooling</text>\n",
       "<text text-anchor=\"middle\" x=\"47\" y=\"-1803.8\" font-family=\"Times,serif\" font-size=\"14.00\" fill=\"#000000\">max, 2x2/2x2</text>\n",
       "</g>\n",
       "<!-- hybridsequential0_pool2_fwd&#45;&gt;hybridsequential0_conv6_relu_fwd -->\n",
       "<g id=\"edge19\" class=\"edge\">\n",
       "<title>hybridsequential0_pool2_fwd&#45;&gt;hybridsequential0_conv6_relu_fwd</title>\n",
       "<path fill=\"none\" stroke=\"#000000\" d=\"M47,-1775.6321C47,-1767.1148 47,-1758.2539 47,-1750.2088\"/>\n",
       "<polygon fill=\"#000000\" stroke=\"#000000\" points=\"47,-1785.7731 42.5001,-1775.773 47,-1780.7731 47.0001,-1775.7731 47.0001,-1775.7731 47.0001,-1775.7731 47,-1780.7731 51.5001,-1775.7731 47,-1785.7731 47,-1785.7731\"/>\n",
       "</g>\n",
       "<!-- hybridsequential0_dropout2_fwd -->\n",
       "<g id=\"node21\" class=\"node\">\n",
       "<title>hybridsequential0_dropout2_fwd</title>\n",
       "<polygon fill=\"#fccde5\" stroke=\"#000000\" points=\"94,-1938 0,-1938 0,-1880 94,-1880 94,-1938\"/>\n",
       "<text text-anchor=\"middle\" x=\"47\" y=\"-1904.8\" font-family=\"Times,serif\" font-size=\"14.00\" fill=\"#000000\">hybridsequential0_dropout2_fwd</text>\n",
       "</g>\n",
       "<!-- hybridsequential0_dropout2_fwd&#45;&gt;hybridsequential0_pool2_fwd -->\n",
       "<g id=\"edge20\" class=\"edge\">\n",
       "<title>hybridsequential0_dropout2_fwd&#45;&gt;hybridsequential0_pool2_fwd</title>\n",
       "<path fill=\"none\" stroke=\"#000000\" d=\"M47,-1869.6321C47,-1861.1148 47,-1852.2539 47,-1844.2088\"/>\n",
       "<polygon fill=\"#000000\" stroke=\"#000000\" points=\"47,-1879.7731 42.5001,-1869.773 47,-1874.7731 47.0001,-1869.7731 47.0001,-1869.7731 47.0001,-1869.7731 47,-1874.7731 51.5001,-1869.7731 47,-1879.7731 47,-1879.7731\"/>\n",
       "</g>\n",
       "<!-- hybridsequential0_conv7_fwd -->\n",
       "<g id=\"node22\" class=\"node\">\n",
       "<title>hybridsequential0_conv7_fwd</title>\n",
       "<polygon fill=\"#fb8072\" stroke=\"#000000\" points=\"94,-2032 0,-2032 0,-1974 94,-1974 94,-2032\"/>\n",
       "<text text-anchor=\"middle\" x=\"47\" y=\"-2005.8\" font-family=\"Times,serif\" font-size=\"14.00\" fill=\"#000000\">Convolution</text>\n",
       "<text text-anchor=\"middle\" x=\"47\" y=\"-1991.8\" font-family=\"Times,serif\" font-size=\"14.00\" fill=\"#000000\">3x3/1x1, 256</text>\n",
       "</g>\n",
       "<!-- hybridsequential0_conv7_fwd&#45;&gt;hybridsequential0_dropout2_fwd -->\n",
       "<g id=\"edge21\" class=\"edge\">\n",
       "<title>hybridsequential0_conv7_fwd&#45;&gt;hybridsequential0_dropout2_fwd</title>\n",
       "<path fill=\"none\" stroke=\"#000000\" d=\"M47,-1963.6321C47,-1955.1148 47,-1946.2539 47,-1938.2088\"/>\n",
       "<polygon fill=\"#000000\" stroke=\"#000000\" points=\"47,-1973.7731 42.5001,-1963.773 47,-1968.7731 47.0001,-1963.7731 47.0001,-1963.7731 47.0001,-1963.7731 47,-1968.7731 51.5001,-1963.7731 47,-1973.7731 47,-1973.7731\"/>\n",
       "</g>\n",
       "<!-- hybridsequential0_conv7_relu_fwd -->\n",
       "<g id=\"node23\" class=\"node\">\n",
       "<title>hybridsequential0_conv7_relu_fwd</title>\n",
       "<polygon fill=\"#ffffb3\" stroke=\"#000000\" points=\"94,-2126 0,-2126 0,-2068 94,-2068 94,-2126\"/>\n",
       "<text text-anchor=\"middle\" x=\"47\" y=\"-2099.8\" font-family=\"Times,serif\" font-size=\"14.00\" fill=\"#000000\">Activation</text>\n",
       "<text text-anchor=\"middle\" x=\"47\" y=\"-2085.8\" font-family=\"Times,serif\" font-size=\"14.00\" fill=\"#000000\">relu</text>\n",
       "</g>\n",
       "<!-- hybridsequential0_conv7_relu_fwd&#45;&gt;hybridsequential0_conv7_fwd -->\n",
       "<g id=\"edge22\" class=\"edge\">\n",
       "<title>hybridsequential0_conv7_relu_fwd&#45;&gt;hybridsequential0_conv7_fwd</title>\n",
       "<path fill=\"none\" stroke=\"#000000\" d=\"M47,-2057.6321C47,-2049.1148 47,-2040.2539 47,-2032.2088\"/>\n",
       "<polygon fill=\"#000000\" stroke=\"#000000\" points=\"47,-2067.7731 42.5001,-2057.773 47,-2062.7731 47.0001,-2057.7731 47.0001,-2057.7731 47.0001,-2057.7731 47,-2062.7731 51.5001,-2057.7731 47,-2067.7731 47,-2067.7731\"/>\n",
       "</g>\n",
       "<!-- hybridsequential0_conv8_fwd -->\n",
       "<g id=\"node24\" class=\"node\">\n",
       "<title>hybridsequential0_conv8_fwd</title>\n",
       "<polygon fill=\"#fb8072\" stroke=\"#000000\" points=\"94,-2220 0,-2220 0,-2162 94,-2162 94,-2220\"/>\n",
       "<text text-anchor=\"middle\" x=\"47\" y=\"-2193.8\" font-family=\"Times,serif\" font-size=\"14.00\" fill=\"#000000\">Convolution</text>\n",
       "<text text-anchor=\"middle\" x=\"47\" y=\"-2179.8\" font-family=\"Times,serif\" font-size=\"14.00\" fill=\"#000000\">3x3/1x1, 256</text>\n",
       "</g>\n",
       "<!-- hybridsequential0_conv8_fwd&#45;&gt;hybridsequential0_conv7_relu_fwd -->\n",
       "<g id=\"edge23\" class=\"edge\">\n",
       "<title>hybridsequential0_conv8_fwd&#45;&gt;hybridsequential0_conv7_relu_fwd</title>\n",
       "<path fill=\"none\" stroke=\"#000000\" d=\"M47,-2151.6321C47,-2143.1148 47,-2134.2539 47,-2126.2088\"/>\n",
       "<polygon fill=\"#000000\" stroke=\"#000000\" points=\"47,-2161.7731 42.5001,-2151.773 47,-2156.7731 47.0001,-2151.7731 47.0001,-2151.7731 47.0001,-2151.7731 47,-2156.7731 51.5001,-2151.7731 47,-2161.7731 47,-2161.7731\"/>\n",
       "</g>\n",
       "<!-- hybridsequential0_conv8_relu_fwd -->\n",
       "<g id=\"node25\" class=\"node\">\n",
       "<title>hybridsequential0_conv8_relu_fwd</title>\n",
       "<polygon fill=\"#ffffb3\" stroke=\"#000000\" points=\"94,-2314 0,-2314 0,-2256 94,-2256 94,-2314\"/>\n",
       "<text text-anchor=\"middle\" x=\"47\" y=\"-2287.8\" font-family=\"Times,serif\" font-size=\"14.00\" fill=\"#000000\">Activation</text>\n",
       "<text text-anchor=\"middle\" x=\"47\" y=\"-2273.8\" font-family=\"Times,serif\" font-size=\"14.00\" fill=\"#000000\">relu</text>\n",
       "</g>\n",
       "<!-- hybridsequential0_conv8_relu_fwd&#45;&gt;hybridsequential0_conv8_fwd -->\n",
       "<g id=\"edge24\" class=\"edge\">\n",
       "<title>hybridsequential0_conv8_relu_fwd&#45;&gt;hybridsequential0_conv8_fwd</title>\n",
       "<path fill=\"none\" stroke=\"#000000\" d=\"M47,-2245.6321C47,-2237.1148 47,-2228.2539 47,-2220.2088\"/>\n",
       "<polygon fill=\"#000000\" stroke=\"#000000\" points=\"47,-2255.7731 42.5001,-2245.773 47,-2250.7731 47.0001,-2245.7731 47.0001,-2245.7731 47.0001,-2245.7731 47,-2250.7731 51.5001,-2245.7731 47,-2255.7731 47,-2255.7731\"/>\n",
       "</g>\n",
       "<!-- hybridsequential0_conv9_fwd -->\n",
       "<g id=\"node26\" class=\"node\">\n",
       "<title>hybridsequential0_conv9_fwd</title>\n",
       "<polygon fill=\"#fb8072\" stroke=\"#000000\" points=\"94,-2408 0,-2408 0,-2350 94,-2350 94,-2408\"/>\n",
       "<text text-anchor=\"middle\" x=\"47\" y=\"-2381.8\" font-family=\"Times,serif\" font-size=\"14.00\" fill=\"#000000\">Convolution</text>\n",
       "<text text-anchor=\"middle\" x=\"47\" y=\"-2367.8\" font-family=\"Times,serif\" font-size=\"14.00\" fill=\"#000000\">3x3/1x1, 256</text>\n",
       "</g>\n",
       "<!-- hybridsequential0_conv9_fwd&#45;&gt;hybridsequential0_conv8_relu_fwd -->\n",
       "<g id=\"edge25\" class=\"edge\">\n",
       "<title>hybridsequential0_conv9_fwd&#45;&gt;hybridsequential0_conv8_relu_fwd</title>\n",
       "<path fill=\"none\" stroke=\"#000000\" d=\"M47,-2339.6321C47,-2331.1148 47,-2322.2539 47,-2314.2088\"/>\n",
       "<polygon fill=\"#000000\" stroke=\"#000000\" points=\"47,-2349.7731 42.5001,-2339.773 47,-2344.7731 47.0001,-2339.7731 47.0001,-2339.7731 47.0001,-2339.7731 47,-2344.7731 51.5001,-2339.7731 47,-2349.7731 47,-2349.7731\"/>\n",
       "</g>\n",
       "<!-- hybridsequential0_conv9_relu_fwd -->\n",
       "<g id=\"node27\" class=\"node\">\n",
       "<title>hybridsequential0_conv9_relu_fwd</title>\n",
       "<polygon fill=\"#ffffb3\" stroke=\"#000000\" points=\"94,-2502 0,-2502 0,-2444 94,-2444 94,-2502\"/>\n",
       "<text text-anchor=\"middle\" x=\"47\" y=\"-2475.8\" font-family=\"Times,serif\" font-size=\"14.00\" fill=\"#000000\">Activation</text>\n",
       "<text text-anchor=\"middle\" x=\"47\" y=\"-2461.8\" font-family=\"Times,serif\" font-size=\"14.00\" fill=\"#000000\">relu</text>\n",
       "</g>\n",
       "<!-- hybridsequential0_conv9_relu_fwd&#45;&gt;hybridsequential0_conv9_fwd -->\n",
       "<g id=\"edge26\" class=\"edge\">\n",
       "<title>hybridsequential0_conv9_relu_fwd&#45;&gt;hybridsequential0_conv9_fwd</title>\n",
       "<path fill=\"none\" stroke=\"#000000\" d=\"M47,-2433.6321C47,-2425.1148 47,-2416.2539 47,-2408.2088\"/>\n",
       "<polygon fill=\"#000000\" stroke=\"#000000\" points=\"47,-2443.7731 42.5001,-2433.773 47,-2438.7731 47.0001,-2433.7731 47.0001,-2433.7731 47.0001,-2433.7731 47,-2438.7731 51.5001,-2433.7731 47,-2443.7731 47,-2443.7731\"/>\n",
       "</g>\n",
       "<!-- hybridsequential0_pool3_fwd -->\n",
       "<g id=\"node28\" class=\"node\">\n",
       "<title>hybridsequential0_pool3_fwd</title>\n",
       "<polygon fill=\"#80b1d3\" stroke=\"#000000\" points=\"94,-2596 0,-2596 0,-2538 94,-2538 94,-2596\"/>\n",
       "<text text-anchor=\"middle\" x=\"47\" y=\"-2569.8\" font-family=\"Times,serif\" font-size=\"14.00\" fill=\"#000000\">Pooling</text>\n",
       "<text text-anchor=\"middle\" x=\"47\" y=\"-2555.8\" font-family=\"Times,serif\" font-size=\"14.00\" fill=\"#000000\">max, 2x2/2x2</text>\n",
       "</g>\n",
       "<!-- hybridsequential0_pool3_fwd&#45;&gt;hybridsequential0_conv9_relu_fwd -->\n",
       "<g id=\"edge27\" class=\"edge\">\n",
       "<title>hybridsequential0_pool3_fwd&#45;&gt;hybridsequential0_conv9_relu_fwd</title>\n",
       "<path fill=\"none\" stroke=\"#000000\" d=\"M47,-2527.6321C47,-2519.1148 47,-2510.2539 47,-2502.2088\"/>\n",
       "<polygon fill=\"#000000\" stroke=\"#000000\" points=\"47,-2537.7731 42.5001,-2527.773 47,-2532.7731 47.0001,-2527.7731 47.0001,-2527.7731 47.0001,-2527.7731 47,-2532.7731 51.5001,-2527.7731 47,-2537.7731 47,-2537.7731\"/>\n",
       "</g>\n",
       "<!-- hybridsequential0_dropout3_fwd -->\n",
       "<g id=\"node29\" class=\"node\">\n",
       "<title>hybridsequential0_dropout3_fwd</title>\n",
       "<polygon fill=\"#fccde5\" stroke=\"#000000\" points=\"94,-2690 0,-2690 0,-2632 94,-2632 94,-2690\"/>\n",
       "<text text-anchor=\"middle\" x=\"47\" y=\"-2656.8\" font-family=\"Times,serif\" font-size=\"14.00\" fill=\"#000000\">hybridsequential0_dropout3_fwd</text>\n",
       "</g>\n",
       "<!-- hybridsequential0_dropout3_fwd&#45;&gt;hybridsequential0_pool3_fwd -->\n",
       "<g id=\"edge28\" class=\"edge\">\n",
       "<title>hybridsequential0_dropout3_fwd&#45;&gt;hybridsequential0_pool3_fwd</title>\n",
       "<path fill=\"none\" stroke=\"#000000\" d=\"M47,-2621.6321C47,-2613.1148 47,-2604.2539 47,-2596.2088\"/>\n",
       "<polygon fill=\"#000000\" stroke=\"#000000\" points=\"47,-2631.7731 42.5001,-2621.773 47,-2626.7731 47.0001,-2621.7731 47.0001,-2621.7731 47.0001,-2621.7731 47,-2626.7731 51.5001,-2621.7731 47,-2631.7731 47,-2631.7731\"/>\n",
       "</g>\n",
       "<!-- hybridsequential0_flatten0_reshape0 -->\n",
       "<g id=\"node30\" class=\"node\">\n",
       "<title>hybridsequential0_flatten0_reshape0</title>\n",
       "<polygon fill=\"#fdb462\" stroke=\"#000000\" points=\"94,-2784 0,-2784 0,-2726 94,-2726 94,-2784\"/>\n",
       "<text text-anchor=\"middle\" x=\"47\" y=\"-2750.8\" font-family=\"Times,serif\" font-size=\"14.00\" fill=\"#000000\">hybridsequential0_flatten0_reshape0</text>\n",
       "</g>\n",
       "<!-- hybridsequential0_flatten0_reshape0&#45;&gt;hybridsequential0_dropout3_fwd -->\n",
       "<g id=\"edge29\" class=\"edge\">\n",
       "<title>hybridsequential0_flatten0_reshape0&#45;&gt;hybridsequential0_dropout3_fwd</title>\n",
       "<path fill=\"none\" stroke=\"#000000\" d=\"M47,-2715.6321C47,-2707.1148 47,-2698.2539 47,-2690.2088\"/>\n",
       "<polygon fill=\"#000000\" stroke=\"#000000\" points=\"47,-2725.7731 42.5001,-2715.773 47,-2720.7731 47.0001,-2715.7731 47.0001,-2715.7731 47.0001,-2715.7731 47,-2720.7731 51.5001,-2715.7731 47,-2725.7731 47,-2725.7731\"/>\n",
       "</g>\n",
       "<!-- hybridsequential0_dense0_fwd -->\n",
       "<g id=\"node31\" class=\"node\">\n",
       "<title>hybridsequential0_dense0_fwd</title>\n",
       "<polygon fill=\"#fb8072\" stroke=\"#000000\" points=\"94,-2878 0,-2878 0,-2820 94,-2820 94,-2878\"/>\n",
       "<text text-anchor=\"middle\" x=\"47\" y=\"-2851.8\" font-family=\"Times,serif\" font-size=\"14.00\" fill=\"#000000\">FullyConnected</text>\n",
       "<text text-anchor=\"middle\" x=\"47\" y=\"-2837.8\" font-family=\"Times,serif\" font-size=\"14.00\" fill=\"#000000\">1024</text>\n",
       "</g>\n",
       "<!-- hybridsequential0_dense0_fwd&#45;&gt;hybridsequential0_flatten0_reshape0 -->\n",
       "<g id=\"edge30\" class=\"edge\">\n",
       "<title>hybridsequential0_dense0_fwd&#45;&gt;hybridsequential0_flatten0_reshape0</title>\n",
       "<path fill=\"none\" stroke=\"#000000\" d=\"M47,-2809.6321C47,-2801.1148 47,-2792.2539 47,-2784.2088\"/>\n",
       "<polygon fill=\"#000000\" stroke=\"#000000\" points=\"47,-2819.7731 42.5001,-2809.773 47,-2814.7731 47.0001,-2809.7731 47.0001,-2809.7731 47.0001,-2809.7731 47,-2814.7731 51.5001,-2809.7731 47,-2819.7731 47,-2819.7731\"/>\n",
       "</g>\n",
       "<!-- hybridsequential0_dense0_relu_fwd -->\n",
       "<g id=\"node32\" class=\"node\">\n",
       "<title>hybridsequential0_dense0_relu_fwd</title>\n",
       "<polygon fill=\"#ffffb3\" stroke=\"#000000\" points=\"94,-2972 0,-2972 0,-2914 94,-2914 94,-2972\"/>\n",
       "<text text-anchor=\"middle\" x=\"47\" y=\"-2945.8\" font-family=\"Times,serif\" font-size=\"14.00\" fill=\"#000000\">Activation</text>\n",
       "<text text-anchor=\"middle\" x=\"47\" y=\"-2931.8\" font-family=\"Times,serif\" font-size=\"14.00\" fill=\"#000000\">relu</text>\n",
       "</g>\n",
       "<!-- hybridsequential0_dense0_relu_fwd&#45;&gt;hybridsequential0_dense0_fwd -->\n",
       "<g id=\"edge31\" class=\"edge\">\n",
       "<title>hybridsequential0_dense0_relu_fwd&#45;&gt;hybridsequential0_dense0_fwd</title>\n",
       "<path fill=\"none\" stroke=\"#000000\" d=\"M47,-2903.6321C47,-2895.1148 47,-2886.2539 47,-2878.2088\"/>\n",
       "<polygon fill=\"#000000\" stroke=\"#000000\" points=\"47,-2913.7731 42.5001,-2903.773 47,-2908.7731 47.0001,-2903.7731 47.0001,-2903.7731 47.0001,-2903.7731 47,-2908.7731 51.5001,-2903.7731 47,-2913.7731 47,-2913.7731\"/>\n",
       "</g>\n",
       "<!-- hybridsequential0_dropout4_fwd -->\n",
       "<g id=\"node33\" class=\"node\">\n",
       "<title>hybridsequential0_dropout4_fwd</title>\n",
       "<polygon fill=\"#fccde5\" stroke=\"#000000\" points=\"94,-3066 0,-3066 0,-3008 94,-3008 94,-3066\"/>\n",
       "<text text-anchor=\"middle\" x=\"47\" y=\"-3032.8\" font-family=\"Times,serif\" font-size=\"14.00\" fill=\"#000000\">hybridsequential0_dropout4_fwd</text>\n",
       "</g>\n",
       "<!-- hybridsequential0_dropout4_fwd&#45;&gt;hybridsequential0_dense0_relu_fwd -->\n",
       "<g id=\"edge32\" class=\"edge\">\n",
       "<title>hybridsequential0_dropout4_fwd&#45;&gt;hybridsequential0_dense0_relu_fwd</title>\n",
       "<path fill=\"none\" stroke=\"#000000\" d=\"M47,-2997.6321C47,-2989.1148 47,-2980.2539 47,-2972.2088\"/>\n",
       "<polygon fill=\"#000000\" stroke=\"#000000\" points=\"47,-3007.7731 42.5001,-2997.773 47,-3002.7731 47.0001,-2997.7731 47.0001,-2997.7731 47.0001,-2997.7731 47,-3002.7731 51.5001,-2997.7731 47,-3007.7731 47,-3007.7731\"/>\n",
       "</g>\n",
       "<!-- hybridsequential0_dense1_fwd -->\n",
       "<g id=\"node34\" class=\"node\">\n",
       "<title>hybridsequential0_dense1_fwd</title>\n",
       "<polygon fill=\"#fb8072\" stroke=\"#000000\" points=\"94,-3160 0,-3160 0,-3102 94,-3102 94,-3160\"/>\n",
       "<text text-anchor=\"middle\" x=\"47\" y=\"-3133.8\" font-family=\"Times,serif\" font-size=\"14.00\" fill=\"#000000\">FullyConnected</text>\n",
       "<text text-anchor=\"middle\" x=\"47\" y=\"-3119.8\" font-family=\"Times,serif\" font-size=\"14.00\" fill=\"#000000\">1024</text>\n",
       "</g>\n",
       "<!-- hybridsequential0_dense1_fwd&#45;&gt;hybridsequential0_dropout4_fwd -->\n",
       "<g id=\"edge33\" class=\"edge\">\n",
       "<title>hybridsequential0_dense1_fwd&#45;&gt;hybridsequential0_dropout4_fwd</title>\n",
       "<path fill=\"none\" stroke=\"#000000\" d=\"M47,-3091.6321C47,-3083.1148 47,-3074.2539 47,-3066.2088\"/>\n",
       "<polygon fill=\"#000000\" stroke=\"#000000\" points=\"47,-3101.7731 42.5001,-3091.773 47,-3096.7731 47.0001,-3091.7731 47.0001,-3091.7731 47.0001,-3091.7731 47,-3096.7731 51.5001,-3091.7731 47,-3101.7731 47,-3101.7731\"/>\n",
       "</g>\n",
       "<!-- hybridsequential0_dense1_relu_fwd -->\n",
       "<g id=\"node35\" class=\"node\">\n",
       "<title>hybridsequential0_dense1_relu_fwd</title>\n",
       "<polygon fill=\"#ffffb3\" stroke=\"#000000\" points=\"94,-3254 0,-3254 0,-3196 94,-3196 94,-3254\"/>\n",
       "<text text-anchor=\"middle\" x=\"47\" y=\"-3227.8\" font-family=\"Times,serif\" font-size=\"14.00\" fill=\"#000000\">Activation</text>\n",
       "<text text-anchor=\"middle\" x=\"47\" y=\"-3213.8\" font-family=\"Times,serif\" font-size=\"14.00\" fill=\"#000000\">relu</text>\n",
       "</g>\n",
       "<!-- hybridsequential0_dense1_relu_fwd&#45;&gt;hybridsequential0_dense1_fwd -->\n",
       "<g id=\"edge34\" class=\"edge\">\n",
       "<title>hybridsequential0_dense1_relu_fwd&#45;&gt;hybridsequential0_dense1_fwd</title>\n",
       "<path fill=\"none\" stroke=\"#000000\" d=\"M47,-3185.6321C47,-3177.1148 47,-3168.2539 47,-3160.2088\"/>\n",
       "<polygon fill=\"#000000\" stroke=\"#000000\" points=\"47,-3195.7731 42.5001,-3185.773 47,-3190.7731 47.0001,-3185.7731 47.0001,-3185.7731 47.0001,-3185.7731 47,-3190.7731 51.5001,-3185.7731 47,-3195.7731 47,-3195.7731\"/>\n",
       "</g>\n",
       "<!-- hybridsequential0_dropout5_fwd -->\n",
       "<g id=\"node36\" class=\"node\">\n",
       "<title>hybridsequential0_dropout5_fwd</title>\n",
       "<polygon fill=\"#fccde5\" stroke=\"#000000\" points=\"94,-3348 0,-3348 0,-3290 94,-3290 94,-3348\"/>\n",
       "<text text-anchor=\"middle\" x=\"47\" y=\"-3314.8\" font-family=\"Times,serif\" font-size=\"14.00\" fill=\"#000000\">hybridsequential0_dropout5_fwd</text>\n",
       "</g>\n",
       "<!-- hybridsequential0_dropout5_fwd&#45;&gt;hybridsequential0_dense1_relu_fwd -->\n",
       "<g id=\"edge35\" class=\"edge\">\n",
       "<title>hybridsequential0_dropout5_fwd&#45;&gt;hybridsequential0_dense1_relu_fwd</title>\n",
       "<path fill=\"none\" stroke=\"#000000\" d=\"M47,-3279.6321C47,-3271.1148 47,-3262.2539 47,-3254.2088\"/>\n",
       "<polygon fill=\"#000000\" stroke=\"#000000\" points=\"47,-3289.7731 42.5001,-3279.773 47,-3284.7731 47.0001,-3279.7731 47.0001,-3279.7731 47.0001,-3279.7731 47,-3284.7731 51.5001,-3279.7731 47,-3289.7731 47,-3289.7731\"/>\n",
       "</g>\n",
       "<!-- hybridsequential0_dense2_fwd -->\n",
       "<g id=\"node37\" class=\"node\">\n",
       "<title>hybridsequential0_dense2_fwd</title>\n",
       "<polygon fill=\"#fb8072\" stroke=\"#000000\" points=\"94,-3442 0,-3442 0,-3384 94,-3384 94,-3442\"/>\n",
       "<text text-anchor=\"middle\" x=\"47\" y=\"-3415.8\" font-family=\"Times,serif\" font-size=\"14.00\" fill=\"#000000\">FullyConnected</text>\n",
       "<text text-anchor=\"middle\" x=\"47\" y=\"-3401.8\" font-family=\"Times,serif\" font-size=\"14.00\" fill=\"#000000\">8</text>\n",
       "</g>\n",
       "<!-- hybridsequential0_dense2_fwd&#45;&gt;hybridsequential0_dropout5_fwd -->\n",
       "<g id=\"edge36\" class=\"edge\">\n",
       "<title>hybridsequential0_dense2_fwd&#45;&gt;hybridsequential0_dropout5_fwd</title>\n",
       "<path fill=\"none\" stroke=\"#000000\" d=\"M47,-3373.6321C47,-3365.1148 47,-3356.2539 47,-3348.2088\"/>\n",
       "<polygon fill=\"#000000\" stroke=\"#000000\" points=\"47,-3383.7731 42.5001,-3373.773 47,-3378.7731 47.0001,-3373.7731 47.0001,-3373.7731 47.0001,-3373.7731 47,-3378.7731 51.5001,-3373.7731 47,-3383.7731 47,-3383.7731\"/>\n",
       "</g>\n",
       "</g>\n",
       "</svg>\n"
      ],
      "text/plain": [
       "<graphviz.dot.Digraph at 0x110185a90>"
      ]
     },
     "execution_count": 18,
     "metadata": {},
     "output_type": "execute_result"
    }
   ],
   "source": [
    "# Use MXBOARD here to visualize network\n",
    "x = mx.sym.var('data')\n",
    "sym = net(x)\n",
    "mx.viz.plot_network(sym)\n"
   ]
  },
  {
   "cell_type": "markdown",
   "metadata": {
    "slideshow": {
     "slide_type": "slide"
    }
   },
   "source": [
    "# Step 3 – Prepare the Trainer with optimizer"
   ]
  },
  {
   "cell_type": "code",
   "execution_count": 19,
   "metadata": {
    "slideshow": {
     "slide_type": "fragment"
    }
   },
   "outputs": [],
   "source": [
    "softmax_cross_entropy = gluon.loss.SoftmaxCrossEntropyLoss()"
   ]
  },
  {
   "cell_type": "code",
   "execution_count": 20,
   "metadata": {
    "slideshow": {
     "slide_type": "fragment"
    }
   },
   "outputs": [],
   "source": [
    "batch_size = 32\n",
    "trainer = gluon.Trainer(net.collect_params(), 'sgd', \n",
    "                        {'learning_rate': 0.0025, 'momentum': 0.9})"
   ]
  },
  {
   "cell_type": "markdown",
   "metadata": {
    "slideshow": {
     "slide_type": "slide"
    }
   },
   "source": [
    "# Step 4 – Prepare the model evaluation strategy"
   ]
  },
  {
   "cell_type": "code",
   "execution_count": 17,
   "metadata": {
    "slideshow": {
     "slide_type": "fragment"
    }
   },
   "outputs": [],
   "source": [
    "def evaluate_accuracy(data_iterator, net):\n",
    "    acc = mx.metric.Accuracy()\n",
    "    for i, (data, label) in enumerate(data_iterator):\n",
    "        data = data.as_in_context(ctx)\n",
    "        label = label.as_in_context(ctx)\n",
    "        output = net(data)\n",
    "        predictions = nd.argmax(output, axis=1)\n",
    "        acc.update(preds=predictions, labels=label)\n",
    "    return acc.get()[1]"
   ]
  },
  {
   "cell_type": "markdown",
   "metadata": {
    "slideshow": {
     "slide_type": "slide"
    }
   },
   "source": [
    "# Step 5 – Prepare data loaders"
   ]
  },
  {
   "cell_type": "code",
   "execution_count": 18,
   "metadata": {
    "slideshow": {
     "slide_type": "fragment"
    }
   },
   "outputs": [],
   "source": [
    "train_labels = np.argmax(processed_train_labels, axis=1)\n",
    "val_labels = np.argmax(processed_val_labels, axis=1)\n",
    "\n",
    "train_data = gluon.data.DataLoader(gluon.data.ArrayDataset(processed_train_images, train_labels), batch_size = batch_size, shuffle=True)\n",
    "val_data = gluon.data.DataLoader(gluon.data.ArrayDataset(processed_val_images, val_labels), batch_size = batch_size)"
   ]
  },
  {
   "cell_type": "markdown",
   "metadata": {
    "slideshow": {
     "slide_type": "slide"
    }
   },
   "source": [
    "\n",
    "# Step 6 – Train the Neural Network"
   ]
  },
  {
   "cell_type": "code",
   "execution_count": 19,
   "metadata": {
    "slideshow": {
     "slide_type": "fragment"
    }
   },
   "outputs": [
    {
     "name": "stdout",
     "output_type": "stream",
     "text": [
      "Epoch 0. Loss: 1.4566, Train_acc 0.348692353763, Val_acc 0.369790034472\n",
      "Epoch 1. Loss: 1.50656, Train_acc 0.360191655021, Val_acc 0.3860858665\n",
      "Epoch 2. Loss: 1.58091, Train_acc 0.411898582551, Val_acc 0.434033218427\n",
      "Epoch 3. Loss: 1.3885, Train_acc 0.464404072669, Val_acc 0.478533375118\n",
      "Epoch 4. Loss: 1.33469, Train_acc 0.50916350569, Val_acc 0.522406769038\n",
      "Epoch 5. Loss: 1.52856, Train_acc 0.54573767219, Val_acc 0.563773111877\n",
      "Epoch 6. Loss: 1.18487, Train_acc 0.601836693951, Val_acc 0.621748668129\n",
      "Epoch 7. Loss: 1.19979, Train_acc 0.652146136953, Val_acc 0.673143215293\n",
      "Epoch 8. Loss: 0.645745, Train_acc 0.68392892793, Val_acc 0.700094014416\n",
      "Epoch 9. Loss: 0.888451, Train_acc 0.664563785187, Val_acc 0.673456596678\n",
      "Epoch 10. Loss: 1.05236, Train_acc 0.709443002595, Val_acc 0.722030711376\n",
      "Epoch 11. Loss: 0.651695, Train_acc 0.751048113396, Val_acc 0.746161078032\n",
      "Epoch 12. Loss: 0.900181, Train_acc 0.748852066281, Val_acc 0.744907552491\n",
      "Epoch 13. Loss: 0.395999, Train_acc 0.76338590537, Val_acc 0.750548417424\n",
      "Epoch 14. Loss: 0.886785, Train_acc 0.777640247554, Val_acc 0.760263240364\n",
      "Epoch 15. Loss: 0.753319, Train_acc 0.816051108006, Val_acc 0.790347853338\n",
      "Epoch 16. Loss: 0.278053, Train_acc 0.796007187063, Val_acc 0.770918207458\n",
      "Epoch 17. Loss: 0.843907, Train_acc 0.816490317429, Val_acc 0.769664681918\n",
      "Epoch 18. Loss: 0.536523, Train_acc 0.859812337792, Val_acc 0.796302099655\n",
      "Epoch 19. Loss: 1.24311, Train_acc 0.862806947495, Val_acc 0.79661548104\n",
      "Epoch 20. Loss: 0.818657, Train_acc 0.882731084049, Val_acc 0.798809150736\n",
      "Epoch 21. Loss: 0.851744, Train_acc 0.888560590936, Val_acc 0.804136634284\n",
      "Epoch 22. Loss: 0.423125, Train_acc 0.905689758435, Val_acc 0.80633030398\n",
      "Epoch 23. Loss: 0.205515, Train_acc 0.908404871232, Val_acc 0.809464117831\n",
      "Epoch 24. Loss: 0.527888, Train_acc 0.926731882611, Val_acc 0.808210592291\n"
     ]
    }
   ],
   "source": [
    "epochs = 25\n",
    "\n",
    "train_accuracies = []\n",
    "losses = []\n",
    "val_accuracies = []\n",
    "\n",
    "for e in range(epochs):\n",
    "    batch = 0\n",
    "    for i, (data, label) in enumerate(train_data):\n",
    "        data = data.as_in_context(ctx)\n",
    "        label = label.as_in_context(ctx)\n",
    "        with autograd.record():\n",
    "            output = net(data)\n",
    "            loss = softmax_cross_entropy(output, label)\n",
    "            \n",
    "        loss.backward()\n",
    "        trainer.step(data.shape[0])\n",
    "        curr_loss = nd.mean(loss).asscalar()\n",
    "        batch +=1        \n",
    "\n",
    "    val_accuracy = evaluate_accuracy(val_data, net)\n",
    "    train_accuracy = evaluate_accuracy(train_data, net)\n",
    "    \n",
    "    losses.append(curr_loss)\n",
    "    train_accuracies.append(train_accuracy)\n",
    "    val_accuracies.append(val_accuracy)\n",
    "    \n",
    "    print(\"Epoch %s. Loss: %s, Train_acc %s, Val_acc %s\" % (e, curr_loss, train_accuracy, val_accuracy))"
   ]
  },
  {
   "cell_type": "markdown",
   "metadata": {
    "slideshow": {
     "slide_type": "slide"
    }
   },
   "source": [
    "# Step 7 - Evaluate on Test Data"
   ]
  },
  {
   "cell_type": "code",
   "execution_count": 20,
   "metadata": {
    "slideshow": {
     "slide_type": "fragment"
    }
   },
   "outputs": [
    {
     "name": "stdout",
     "output_type": "stream",
     "text": [
      "Test Accuracy -  0.795664647753\n"
     ]
    }
   ],
   "source": [
    "# Test accuracy\n",
    "\n",
    "acc = mx.metric.Accuracy()\n",
    "test_labels = np.argmax(processed_test_labels, axis=1)\n",
    "data_iterator = gluon.data.DataLoader(gluon.data.ArrayDataset(processed_test_images, test_labels), batch_size = 32)\n",
    "for i, (data, label) in enumerate(data_iterator):\n",
    "    data = data.as_in_context(ctx)\n",
    "    label = label.as_in_context(ctx)\n",
    "    output = net(data)\n",
    "    predictions = nd.argmax(output, axis=1)\n",
    "    acc.update(preds=predictions, labels=label)\n",
    "print(\"Test Accuracy - \", acc.get()[1])"
   ]
  },
  {
   "cell_type": "code",
   "execution_count": 21,
   "metadata": {
    "slideshow": {
     "slide_type": "slide"
    }
   },
   "outputs": [
    {
     "data": {
      "text/plain": [
       "<matplotlib.legend.Legend at 0x7f0453d21048>"
      ]
     },
     "execution_count": 21,
     "metadata": {},
     "output_type": "execute_result"
    },
    {
     "data": {
      "image/png": "[encoded data removed]",
      "text/plain": [
       "<Figure size 864x432 with 2 Axes>"
      ]
     },
     "metadata": {},
     "output_type": "display_data"
    }
   ],
   "source": [
    "# for plotting purposes\n",
    "%matplotlib inline\n",
    "import matplotlib\n",
    "import matplotlib.pyplot as plt\n",
    "\n",
    "epochs = range(len(train_accuracies))\n",
    "\n",
    "f = plt.figure(figsize=(12,6))\n",
    "fg1 = f.add_subplot(121)\n",
    "fg2 = f.add_subplot(122)\n",
    "\n",
    "fg1.set_xlabel('epoch',fontsize=14)  \n",
    "fg1.set_title('Loss over Training')\n",
    "fg1.grid(True, which=\"both\")\n",
    "fg1.plot(epochs, losses)\n",
    "\n",
    "fg2.set_title('Comparing accuracy')\n",
    "fg2.set_xlabel('epoch', fontsize=14)\n",
    "fg2.grid(True, which=\"both\")\n",
    "\n",
    "p1, = fg2.plot(epochs, train_accuracies)\n",
    "p2, = fg2.plot(epochs, val_accuracies)\n",
    "fg2.legend([p1, p2], ['training accuracy', 'validation accuracy'],fontsize=14)"
   ]
  },
  {
   "cell_type": "code",
   "execution_count": 22,
   "metadata": {
    "slideshow": {
     "slide_type": "slide"
    }
   },
   "outputs": [
    {
     "data": {
      "text/plain": [
       "<matplotlib.image.AxesImage at 0x7f0453ce4a20>"
      ]
     },
     "execution_count": 22,
     "metadata": {},
     "output_type": "execute_result"
    },
    {
     "data": {
      "image/png": "[encoded data removed]",
      "text/plain": [
       "<Figure size 432x288 with 1 Axes>"
      ]
     },
     "metadata": {},
     "output_type": "display_data"
    }
   ],
   "source": [
    "# Example Inference\n",
    "idx = 98\n",
    "plt.imshow(processed_test_images[idx].reshape(64,64), cmap='gray')"
   ]
  },
  {
   "cell_type": "code",
   "execution_count": 23,
   "metadata": {
    "slideshow": {
     "slide_type": "fragment"
    }
   },
   "outputs": [
    {
     "name": "stdout",
     "output_type": "stream",
     "text": [
      "Actual Emotion -  sadness\n"
     ]
    }
   ],
   "source": [
    "print(\"Actual Emotion - \", emotion_table[test_labels[idx]])"
   ]
  },
  {
   "cell_type": "code",
   "execution_count": 24,
   "metadata": {
    "slideshow": {
     "slide_type": "fragment"
    }
   },
   "outputs": [],
   "source": [
    "# Perform Inference\n",
    "output = net(mx.nd.array(processed_test_images[idx].reshape(1,1,64,64)).as_in_context(ctx))"
   ]
  },
  {
   "cell_type": "code",
   "execution_count": 25,
   "metadata": {
    "slideshow": {
     "slide_type": "fragment"
    }
   },
   "outputs": [
    {
     "name": "stdout",
     "output_type": "stream",
     "text": [
      "Predicted Emotion -  sadness\n"
     ]
    }
   ],
   "source": [
    "print(\"Predicted Emotion - \", emotion_table[nd.argmax(output, axis=1).asnumpy()[0]])"
   ]
  },
  {
   "cell_type": "markdown",
   "metadata": {
    "slideshow": {
     "slide_type": "skip"
    }
   },
   "source": [
    "![image.png](../assets/inference_wf.png)"
   ]
  },
  {
   "cell_type": "markdown",
   "metadata": {
    "slideshow": {
     "slide_type": "slide"
    }
   },
   "source": [
    "# Step 8 - Export the model for Production"
   ]
  },
  {
   "cell_type": "code",
   "execution_count": 27,
   "metadata": {
    "slideshow": {
     "slide_type": "fragment"
    }
   },
   "outputs": [],
   "source": [
    "# Export the model for production deployment.\n",
    "# There will be 2 files exported: \n",
    "# 1) gluon_ferplus-symbol.json => Contains the network definition\n",
    "# 2) gluon_ferplus-0000.params => Contains the weights in the network\n",
    "net.export('gluon_ferplus')"
   ]
  },
  {
   "cell_type": "markdown",
   "metadata": {
    "slideshow": {
     "slide_type": "skip"
    }
   },
   "source": [
    "# Step 9 - Install pre-requisites for model serving\n",
    "\n",
    "We will need the PyPi packages listed below to test model server locally, and to perform image pre-processing prior to the model inference."
   ]
  },
  {
   "cell_type": "code",
   "execution_count": 28,
   "metadata": {
    "slideshow": {
     "slide_type": "skip"
    }
   },
   "outputs": [
    {
     "name": "stdout",
     "output_type": "stream",
     "text": [
      "Requirement already satisfied: mxnet-model-server in /home/ec2-user/anaconda3/envs/mxnet_p36/lib/python3.6/site-packages (0.3)\n",
      "Collecting importlib2 (from mxnet-model-server)\n",
      "\u001b[?25l  Downloading https://files.pythonhosted.org/packages/b7/a4/83cd23bc3a1a083d85ddcd4c09f5f243dc7d90b8257f4e44861b34ae42ec/importlib2-3.5.0.2.tar.gz (55kB)\n",
      "\u001b[K    100% |████████████████████████████████| 61kB 10.2MB/s ta 0:00:01\n",
      "\u001b[?25hRequirement already satisfied: requests in /home/ec2-user/anaconda3/envs/mxnet_p36/lib/python3.6/site-packages (from mxnet-model-server) (2.18.4)\n",
      "Requirement already satisfied: boto3 in /home/ec2-user/anaconda3/envs/mxnet_p36/lib/python3.6/site-packages (from mxnet-model-server) (1.8.9)\n",
      "Requirement already satisfied: Pillow in /home/ec2-user/anaconda3/envs/mxnet_p36/lib/python3.6/site-packages (from mxnet-model-server) (5.0.0)\n",
      "Collecting fasteners (from mxnet-model-server)\n",
      "  Downloading https://files.pythonhosted.org/packages/14/3a/096c7ad18e102d4f219f5dd15951f9728ca5092a3385d2e8f79a7c1e1017/fasteners-0.14.1-py2.py3-none-any.whl\n",
      "Collecting onnx-mxnet>=0.4.2 (from mxnet-model-server)\n",
      "  Downloading https://files.pythonhosted.org/packages/87/4e/b74e614b1dbc06248d6fecbb8817c135c6cff2debdde334a821757042ca2/onnx_mxnet-0.4.2-py2.py3-none-any.whl\n",
      "Requirement already satisfied: psutil in /home/ec2-user/anaconda3/envs/mxnet_p36/lib/python3.6/site-packages (from mxnet-model-server) (5.4.3)\n",
      "Requirement already satisfied: mxnet>=1.1 in /home/ec2-user/anaconda3/envs/mxnet_p36/lib/python3.6/site-packages (from mxnet-model-server) (1.3.0)\n",
      "Requirement already satisfied: Flask in /home/ec2-user/anaconda3/envs/mxnet_p36/lib/python3.6/site-packages (from mxnet-model-server) (0.12.2)\n",
      "Requirement already satisfied: jsonschema in /home/ec2-user/anaconda3/envs/mxnet_p36/lib/python3.6/site-packages (from mxnet-model-server) (2.6.0)\n",
      "Requirement already satisfied: flask-cors in /home/ec2-user/anaconda3/envs/mxnet_p36/lib/python3.6/site-packages (from mxnet-model-server) (3.0.3)\n",
      "Requirement already satisfied: chardet<3.1.0,>=3.0.2 in /home/ec2-user/anaconda3/envs/mxnet_p36/lib/python3.6/site-packages (from requests->mxnet-model-server) (3.0.4)\n",
      "Requirement already satisfied: idna<2.7,>=2.5 in /home/ec2-user/anaconda3/envs/mxnet_p36/lib/python3.6/site-packages (from requests->mxnet-model-server) (2.6)\n",
      "Requirement already satisfied: urllib3<1.23,>=1.21.1 in /home/ec2-user/anaconda3/envs/mxnet_p36/lib/python3.6/site-packages (from requests->mxnet-model-server) (1.22)\n",
      "Requirement already satisfied: certifi>=2017.4.17 in /home/ec2-user/anaconda3/envs/mxnet_p36/lib/python3.6/site-packages (from requests->mxnet-model-server) (2018.8.24)\n",
      "Requirement already satisfied: s3transfer<0.2.0,>=0.1.10 in /home/ec2-user/anaconda3/envs/mxnet_p36/lib/python3.6/site-packages (from boto3->mxnet-model-server) (0.1.13)\n",
      "Requirement already satisfied: jmespath<1.0.0,>=0.7.1 in /home/ec2-user/anaconda3/envs/mxnet_p36/lib/python3.6/site-packages (from boto3->mxnet-model-server) (0.9.3)\n",
      "Requirement already satisfied: botocore<1.12.0,>=1.11.9 in /home/ec2-user/anaconda3/envs/mxnet_p36/lib/python3.6/site-packages (from boto3->mxnet-model-server) (1.11.9)\n",
      "Collecting monotonic>=0.1 (from fasteners->mxnet-model-server)\n",
      "  Downloading https://files.pythonhosted.org/packages/ac/aa/063eca6a416f397bd99552c534c6d11d57f58f2e94c14780f3bbf818c4cf/monotonic-1.5-py2.py3-none-any.whl\n",
      "Requirement already satisfied: six in /home/ec2-user/anaconda3/envs/mxnet_p36/lib/python3.6/site-packages (from fasteners->mxnet-model-server) (1.11.0)\n",
      "Collecting onnx>=1.0.1 (from onnx-mxnet>=0.4.2->mxnet-model-server)\n",
      "\u001b[?25l  Downloading https://files.pythonhosted.org/packages/5b/dc/a618db796e343aeacdf6dd0ffc672d937531bd2eba29733137df595bdfd3/onnx-1.3.0-cp36-cp36m-manylinux1_x86_64.whl (6.6MB)\n",
      "\u001b[K    100% |████████████████████████████████| 6.7MB 7.2MB/s eta 0:00:01\n",
      "\u001b[?25hRequirement already satisfied: numpy<1.15.0,>=1.8.2 in /home/ec2-user/anaconda3/envs/mxnet_p36/lib/python3.6/site-packages (from mxnet>=1.1->mxnet-model-server) (1.13.3)\n",
      "Requirement already satisfied: graphviz<0.9.0,>=0.8.1 in /home/ec2-user/anaconda3/envs/mxnet_p36/lib/python3.6/site-packages (from mxnet>=1.1->mxnet-model-server) (0.8.1)\n",
      "Requirement already satisfied: click>=2.0 in /home/ec2-user/anaconda3/envs/mxnet_p36/lib/python3.6/site-packages (from Flask->mxnet-model-server) (6.7)\n",
      "Requirement already satisfied: Werkzeug>=0.7 in /home/ec2-user/anaconda3/envs/mxnet_p36/lib/python3.6/site-packages (from Flask->mxnet-model-server) (0.14.1)\n",
      "Requirement already satisfied: Jinja2>=2.4 in /home/ec2-user/anaconda3/envs/mxnet_p36/lib/python3.6/site-packages (from Flask->mxnet-model-server) (2.10)\n",
      "Requirement already satisfied: itsdangerous>=0.21 in /home/ec2-user/anaconda3/envs/mxnet_p36/lib/python3.6/site-packages (from Flask->mxnet-model-server) (0.24)\n",
      "Requirement already satisfied: docutils>=0.10 in /home/ec2-user/anaconda3/envs/mxnet_p36/lib/python3.6/site-packages (from botocore<1.12.0,>=1.11.9->boto3->mxnet-model-server) (0.14)\n",
      "Requirement already satisfied: python-dateutil<3.0.0,>=2.1; python_version >= \"2.7\" in /home/ec2-user/anaconda3/envs/mxnet_p36/lib/python3.6/site-packages (from botocore<1.12.0,>=1.11.9->boto3->mxnet-model-server) (2.7.3)\n",
      "Requirement already satisfied: protobuf in /home/ec2-user/anaconda3/envs/mxnet_p36/lib/python3.6/site-packages (from onnx>=1.0.1->onnx-mxnet>=0.4.2->mxnet-model-server) (3.5.2)\n",
      "Collecting typing-extensions>=3.6.2.1 (from onnx>=1.0.1->onnx-mxnet>=0.4.2->mxnet-model-server)\n",
      "  Downloading https://files.pythonhosted.org/packages/15/f1/ef4e69d77cd850af1cb7d6de62fc8a0e92eb6fe7b37e3dc563b41378b567/typing_extensions-3.6.5-py3-none-any.whl\n",
      "Requirement already satisfied: typing>=3.6.4 in /home/ec2-user/anaconda3/envs/mxnet_p36/lib/python3.6/site-packages (from onnx>=1.0.1->onnx-mxnet>=0.4.2->mxnet-model-server) (3.6.4)\n",
      "Requirement already satisfied: MarkupSafe>=0.23 in /home/ec2-user/anaconda3/envs/mxnet_p36/lib/python3.6/site-packages (from Jinja2>=2.4->Flask->mxnet-model-server) (1.0)\n",
      "Requirement already satisfied: setuptools in /home/ec2-user/anaconda3/envs/mxnet_p36/lib/python3.6/site-packages (from protobuf->onnx>=1.0.1->onnx-mxnet>=0.4.2->mxnet-model-server) (39.1.0)\n",
      "Building wheels for collected packages: importlib2\n",
      "  Running setup.py bdist_wheel for importlib2 ... \u001b[?25ldone\n",
      "\u001b[?25h  Stored in directory: /home/ec2-user/.cache/pip/wheels/02/49/20/3add1cc766cc8896e34b40c29e8854a02eeeed422477b811dc\n",
      "Successfully built importlib2\n",
      "\u001b[31mdistributed 1.21.8 requires msgpack, which is not installed.\u001b[0m\n",
      "Installing collected packages: importlib2, monotonic, fasteners, typing-extensions, onnx, onnx-mxnet\n",
      "Successfully installed fasteners-0.14.1 importlib2-3.5.0.2 monotonic-1.5 onnx-1.3.0 onnx-mxnet-0.4.2 typing-extensions-3.6.5\n",
      "\u001b[33mYou are using pip version 10.0.1, however version 18.0 is available.\n",
      "You should consider upgrading via the 'pip install --upgrade pip' command.\u001b[0m\n",
      "Requirement already satisfied: scikit-image in /home/ec2-user/anaconda3/envs/mxnet_p36/lib/python3.6/site-packages (0.13.1)\n",
      "Requirement already satisfied: matplotlib>=1.3.1 in /home/ec2-user/anaconda3/envs/mxnet_p36/lib/python3.6/site-packages (from scikit-image) (2.2.2)\n",
      "Requirement already satisfied: six>=1.7.3 in /home/ec2-user/anaconda3/envs/mxnet_p36/lib/python3.6/site-packages (from scikit-image) (1.11.0)\n",
      "Requirement already satisfied: networkx>=1.8 in /home/ec2-user/anaconda3/envs/mxnet_p36/lib/python3.6/site-packages (from scikit-image) (2.1)\n",
      "Requirement already satisfied: pillow>=2.1.0 in /home/ec2-user/anaconda3/envs/mxnet_p36/lib/python3.6/site-packages (from scikit-image) (5.0.0)\n",
      "Requirement already satisfied: PyWavelets>=0.4.0 in /home/ec2-user/anaconda3/envs/mxnet_p36/lib/python3.6/site-packages (from scikit-image) (0.5.2)\n",
      "Requirement already satisfied: numpy>=1.7.1 in /home/ec2-user/anaconda3/envs/mxnet_p36/lib/python3.6/site-packages (from matplotlib>=1.3.1->scikit-image) (1.13.3)\n",
      "Requirement already satisfied: cycler>=0.10 in /home/ec2-user/anaconda3/envs/mxnet_p36/lib/python3.6/site-packages (from matplotlib>=1.3.1->scikit-image) (0.10.0)\n",
      "Requirement already satisfied: pyparsing!=2.0.4,!=2.1.2,!=2.1.6,>=2.0.1 in /home/ec2-user/anaconda3/envs/mxnet_p36/lib/python3.6/site-packages (from matplotlib>=1.3.1->scikit-image) (2.2.0)\n",
      "Requirement already satisfied: python-dateutil>=2.1 in /home/ec2-user/anaconda3/envs/mxnet_p36/lib/python3.6/site-packages (from matplotlib>=1.3.1->scikit-image) (2.7.3)\n",
      "Requirement already satisfied: pytz in /home/ec2-user/anaconda3/envs/mxnet_p36/lib/python3.6/site-packages (from matplotlib>=1.3.1->scikit-image) (2018.4)\n",
      "Requirement already satisfied: kiwisolver>=1.0.1 in /home/ec2-user/anaconda3/envs/mxnet_p36/lib/python3.6/site-packages (from matplotlib>=1.3.1->scikit-image) (1.0.1)\n",
      "Requirement already satisfied: decorator>=4.1.0 in /home/ec2-user/anaconda3/envs/mxnet_p36/lib/python3.6/site-packages (from networkx>=1.8->scikit-image) (4.3.0)\n",
      "Requirement already satisfied: setuptools in /home/ec2-user/anaconda3/envs/mxnet_p36/lib/python3.6/site-packages (from kiwisolver>=1.0.1->matplotlib>=1.3.1->scikit-image) (39.1.0)\n"
     ]
    },
    {
     "name": "stdout",
     "output_type": "stream",
     "text": [
      "\u001b[31mdistributed 1.21.8 requires msgpack, which is not installed.\u001b[0m\n",
      "\u001b[33mYou are using pip version 10.0.1, however version 18.0 is available.\n",
      "You should consider upgrading via the 'pip install --upgrade pip' command.\u001b[0m\n",
      "Requirement already satisfied: opencv-python in /home/ec2-user/anaconda3/envs/mxnet_p36/lib/python3.6/site-packages (3.4.3.18)\n",
      "Requirement already satisfied: numpy>=1.11.3 in /home/ec2-user/anaconda3/envs/mxnet_p36/lib/python3.6/site-packages (from opencv-python) (1.13.3)\n",
      "\u001b[31mdistributed 1.21.8 requires msgpack, which is not installed.\u001b[0m\n",
      "\u001b[33mYou are using pip version 10.0.1, however version 18.0 is available.\n",
      "You should consider upgrading via the 'pip install --upgrade pip' command.\u001b[0m\n"
     ]
    }
   ],
   "source": [
    "!pip install mxnet-model-server\n",
    "!pip install scikit-image\n",
    "!pip install opencv-python"
   ]
  },
  {
   "cell_type": "markdown",
   "metadata": {
    "slideshow": {
     "slide_type": "slide"
    }
   },
   "source": [
    "# Step 10 - Export a model archive\n",
    "\n",
    "We will now prepare the model archive, which encapsulates all of the resources required by MMS for serving the model. To learn more about the model archive, visit [MMS Export docs](https://github.com/awslabs/mxnet-model-server/blob/master/docs/export.md)."
   ]
  },
  {
   "cell_type": "code",
   "execution_count": 29,
   "metadata": {
    "slideshow": {
     "slide_type": "fragment"
    }
   },
   "outputs": [
    {
     "name": "stdout",
     "output_type": "stream",
     "text": [
      "/home/ec2-user/SageMaker/facial-emotion-recognition-gluon/notebooks/ferplus\n",
      "  % Total    % Received % Xferd  Average Speed   Time    Time     Time  Current\n",
      "                                 Dload  Upload   Total   Spent    Left  Speed\n",
      "100 33.4M  100 33.4M    0     0  68.1M      0 --:--:-- --:--:-- --:--:-- 68.0M\n",
      "  % Total    % Received % Xferd  Average Speed   Time    Time     Time  Current\n",
      "                                 Dload  Upload   Total   Spent    Left  Speed\n",
      "100 16867  100 16867    0     0  26773      0 --:--:-- --:--:-- --:--:-- 26773\n"
     ]
    }
   ],
   "source": [
    "# As a first step, we will download the pre-trained model. \n",
    "# You can skip this step if you have just trained your model, but then you will need to copy the model files into ferplus directory\n",
    "!mkdir ferplus\n",
    "%cd ferplus\n",
    "!curl -O https://s3.amazonaws.com/mxnet-demo-models/models/fer/gluon_ferplus-0000.params\n",
    "!curl -O https://s3.amazonaws.com/mxnet-demo-models/models/fer/gluon_ferplus-symbol.json"
   ]
  },
  {
   "cell_type": "code",
   "execution_count": 30,
   "metadata": {
    "slideshow": {
     "slide_type": "fragment"
    }
   },
   "outputs": [],
   "source": [
    "# Now let's pull in and review the other resources needed for the model archive\n",
    "%cp ../../model_archive_resources/* ."
   ]
  },
  {
   "cell_type": "code",
   "execution_count": 31,
   "metadata": {
    "slideshow": {
     "slide_type": "slide"
    }
   },
   "outputs": [
    {
     "name": "stdout",
     "output_type": "stream",
     "text": [
      "{\r\n",
      "  \"input_type\": \"image/jpeg\", \r\n",
      "  \"inputs\": [\r\n",
      "    {\r\n",
      "      \"data_shape\": [1, 1, 64, 64], \r\n",
      "      \"data_name\": \"data\"\r\n",
      "    }\r\n",
      "  ], \r\n",
      "  \"outputs\": [\r\n",
      "    {\r\n",
      "      \"data_shape\": [1, 8],\r\n",
      "      \"data_name\": \"hybridsequential0_dense2_fwd\"\r\n",
      "    }\r\n",
      "  ], \r\n",
      "  \"output_type\": \"application/json\"\r\n",
      "}"
     ]
    }
   ],
   "source": [
    "# We define the model's input and output type and shape via signature.json\n",
    "!cat signature.json"
   ]
  },
  {
   "cell_type": "code",
   "execution_count": 32,
   "metadata": {
    "slideshow": {
     "slide_type": "fragment"
    }
   },
   "outputs": [
    {
     "name": "stdout",
     "output_type": "stream",
     "text": [
      "neutral\r\n",
      "happiness\r\n",
      "surprise\r\n",
      "sadness\r\n",
      "anger\r\n",
      "disgust\r\n",
      "fear\r\n",
      "contempt"
     ]
    }
   ],
   "source": [
    "# We define the model's class label names via synset.txt\n",
    "!cat synset.txt"
   ]
  },
  {
   "cell_type": "code",
   "execution_count": 33,
   "metadata": {
    "slideshow": {
     "slide_type": "slide"
    }
   },
   "outputs": [
    {
     "name": "stdout",
     "output_type": "stream",
     "text": [
      "import numpy as np\r\n",
      "from mms.utils.mxnet import image\r\n",
      "from mms.model_service.mxnet_model_service import MXNetBaseService\r\n",
      "from skimage import transform\r\n",
      "import mxnet as mx\r\n",
      "import cv2 as cv\r\n",
      "\r\n",
      "# One time initialization of Haar Cascade Classifier to extract and crop out face\r\n",
      "face_detector = cv.CascadeClassifier('haarcascade_frontalface.xml')\r\n",
      "# Classifier parameter specifying how much the image size is reduced at each image scale\r\n",
      "scale_factor = 1.3\r\n",
      "# Classifier parameter how many neighbors each candidate rectangle should have to retain it\r\n",
      "min_neighbors = 5\r\n",
      "\r\n",
      "def crop_face(image):\r\n",
      "    \"\"\"Attempts to identify a face in the input image.\r\n",
      "\r\n",
      "    Parameters\r\n",
      "    ----------\r\n",
      "    image : array representing a BGR image\r\n",
      "\r\n",
      "    Returns\r\n",
      "    -------\r\n",
      "    array\r\n",
      "        The cropped face, transformed to grayscale. If no face found returns None\r\n",
      "\r\n",
      "    \"\"\"\r\n",
      "    gray_image = cv.cvtColor(image, cv.COLOR_BGR2GRAY)\r\n",
      "    face_roi_list = face_detector.detectMultiScale(gray_image, scale_factor, min_neighbors)\r\n",
      "    \r\n",
      "    if (len(face_roi_list) > 0):\r\n",
      "        (x,y,w,h) = face_roi_list[0]\r\n",
      "        return gray_image[y:y+h,x:x+w]\r\n",
      "    else:\r\n",
      "        return None\r\n",
      "\r\n",
      "class FERService(MXNetBaseService):\r\n",
      "    \"\"\"\r\n",
      "    Defines custom pre and post processing for the Facial Emotion Recognition model\r\n",
      "    \"\"\"\r\n",
      "\r\n",
      "    def _preprocess(self, data):\r\n",
      "        \"\"\"\r\n",
      "        Pre-process requests by attempting to extract face image, and transforing to fit the model's input\r\n",
      "\r\n",
      "        Parameters\r\n",
      "        ----------\r\n",
      "        data : list of input images\r\n",
      "            Raw inputs from request.\r\n",
      "\r\n",
      "        Returns\r\n",
      "        -------\r\n",
      "        list of NDArray\r\n",
      "            Processed images in the model's expected input shape\r\n",
      "        \"\"\"\r\n",
      "        img_list = []\r\n",
      "\r\n",
      "        # Iterate over all input images provided with the request, transform and append for inference\r\n",
      "        for idx, img in enumerate(data):          \r\n",
      "            input_shape = self.signature['inputs'][idx]['data_shape']\r\n",
      "            [h, w] = input_shape[2:]\r\n",
      "            img_arr = image.read(img).asnumpy()\r\n",
      "            \r\n",
      "            # Try to identify face to crop\r\n",
      "            face = crop_face(img_arr)\r\n",
      "            if (face is not None):\r\n",
      "                face = transform.resize(face, (h,w))            \r\n",
      "            # If no face identified - use the entire input image\r\n",
      "            else:\r\n",
      "                face = cv.cvtColor(img_arr, cv.COLOR_BGR2GRAY)\r\n",
      "\r\n",
      "            # Transform image into tensor of the required shape \r\n",
      "            face = np.resize(face, input_shape)\r\n",
      "            face = mx.nd.array(face)\r\n",
      "            img_list.append(face)\r\n",
      "        \r\n",
      "        return img_list\r\n",
      "\r\n",
      "    def _postprocess(self, data):\r\n",
      "        \"\"\"\r\n",
      "        Post-process inference result to normalize probabilities and render with labels\r\n",
      "\r\n",
      "        Parameters\r\n",
      "        ----------\r\n",
      "        data : list of NDArray\r\n",
      "            Inference output.\r\n",
      "\r\n",
      "        Returns\r\n",
      "        -------\r\n",
      "        list of object\r\n",
      "            list of outputs to be sent back.\r\n",
      "        \"\"\"\r\n",
      "        response = []\r\n",
      "        \r\n",
      "        # Iterating over inference results to render the normalized probabilities\r\n",
      "        for inference_result in data:\r\n",
      "            softmax_result = inference_result.softmax().asnumpy()\r\n",
      "            for idx, label in enumerate(self.labels):\r\n",
      "                response.append({label: float(softmax_result[0][idx])})\r\n",
      "        return response\r\n"
     ]
    }
   ],
   "source": [
    "# And lastly, we define custom code for request handling via python code other auxiliary files\n",
    "!cat fer_service.py"
   ]
  },
  {
   "cell_type": "code",
   "execution_count": 34,
   "metadata": {
    "slideshow": {
     "slide_type": "slide"
    }
   },
   "outputs": [
    {
     "name": "stdout",
     "output_type": "stream",
     "text": [
      "/home/ec2-user/anaconda3/envs/mxnet_p36/lib/python3.6/site-packages/skimage/__init__.py:60: DeprecationWarning: the imp module is deprecated in favour of importlib; see the module's documentation for alternative uses\n",
      "  import imp\n",
      "-rw-rw-r-- 1 ec2-user ec2-user 35984920 Sep 18 11:10 ferplus.model\n"
     ]
    }
   ],
   "source": [
    "# Let's package everything up into a Model Archive bundle\n",
    "!mxnet-model-export --model-name ferplus --service-file-path ./fer_service.py --model-path .\n",
    "!ls -l ferplus.model"
   ]
  },
  {
   "cell_type": "markdown",
   "metadata": {
    "slideshow": {
     "slide_type": "slide"
    }
   },
   "source": [
    "# Step 11 - Serving the model archive with MXNet Model Server\n",
    "\n",
    "Now that we have the model archive ready, we can start the server and ask it to setup HTTP endpoints to serve the model, emit real-time operational metrics and more.\n",
    "To learn more about serving, check out the [MMS Serving docs](https://github.com/awslabs/mxnet-model-server/blob/master/docs/server.md)."
   ]
  },
  {
   "cell_type": "code",
   "execution_count": 35,
   "metadata": {
    "slideshow": {
     "slide_type": "fragment"
    }
   },
   "outputs": [],
   "source": [
    "# Spawning a new process to run the server\n",
    "import subprocess as sp\n",
    "server = sp.Popen(\"mxnet-model-server --models ferplus=ferplus.model\", shell=True)"
   ]
  },
  {
   "cell_type": "code",
   "execution_count": 36,
   "metadata": {
    "slideshow": {
     "slide_type": "fragment"
    }
   },
   "outputs": [
    {
     "name": "stdout",
     "output_type": "stream",
     "text": [
      "{\r\n",
      "  \"health\": \"healthy!\"\r\n",
      "}\r\n"
     ]
    }
   ],
   "source": [
    "# Check out the health endpoint\n",
    "!curl http://127.0.0.1:8080/ping"
   ]
  },
  {
   "cell_type": "markdown",
   "metadata": {
    "slideshow": {
     "slide_type": "slide"
    }
   },
   "source": [
    "Now let's make a prediction request with a test image:\n",
    "![Happiness](../assets/happy.jpg)"
   ]
  },
  {
   "cell_type": "code",
   "execution_count": 7,
   "metadata": {
    "slideshow": {
     "slide_type": "fragment"
    }
   },
   "outputs": [
    {
     "name": "stdout",
     "output_type": "stream",
     "text": [
      "{\r\n",
      "  \"prediction\": [\r\n",
      "    {\r\n",
      "      \"neutral\": 0.3882121741771698\r\n",
      "    }, \r\n",
      "    {\r\n",
      "      \"happiness\": 0.5335745811462402\r\n",
      "    }, \r\n",
      "    {\r\n",
      "      \"surprise\": 0.002491839462891221\r\n",
      "    }, \r\n",
      "    {\r\n",
      "      \"sadness\": 0.05849442631006241\r\n",
      "    }, \r\n",
      "    {\r\n",
      "      \"anger\": 0.008850697427988052\r\n",
      "    }, \r\n",
      "    {\r\n",
      "      \"disgust\": 0.0009525333880446851\r\n",
      "    }, \r\n",
      "    {\r\n",
      "      \"fear\": 0.0007643798599019647\r\n",
      "    }, \r\n",
      "    {\r\n",
      "      \"contempt\": 0.006659356877207756\r\n",
      "    }\r\n",
      "  ]\r\n",
      "}\r\n"
     ]
    }
   ],
   "source": [
    "!curl -X POST http://127.0.0.1:8080/ferplus/predict -F \"data=@../../assets/happy.jpg\""
   ]
  },
  {
   "cell_type": "code",
   "execution_count": 37,
   "metadata": {
    "slideshow": {
     "slide_type": "fragment"
    }
   },
   "outputs": [],
   "source": [
    "# Lastly, we'll terminate the server\n",
    "server.terminate()"
   ]
  },
  {
   "cell_type": "markdown",
   "metadata": {
    "slideshow": {
     "slide_type": "skip"
    }
   },
   "source": [
    "# References\n",
    "1. I. J. Goodfellow, D. Erhan, P. L. Carrier, A. Courville,\n",
    "M. Mirza, B. Hamner, W. Cukierski, Y. Tang,\n",
    "D. Thaler, D.-H. Lee, et al. Challenges in\n",
    "representation learning: A report on three machine\n",
    "learning contests. In Neural information processing,\n",
    "pages 117–124. Springer, 2013\n",
    "\n",
    "2. Training Deep Networks for Facial Expression Recognition with Crowd-Sourced Label Distribution Emad Barsoum et. al. https://arxiv.org/abs/1608.01041\n"
   ]
  }
 ],
 "metadata": {
  "celltoolbar": "Slideshow",
  "kernelspec": {
   "display_name": "Python [conda env:mxnet_py]",
   "language": "python",
   "name": "conda-env-mxnet_py-py"
  },
  "language_info": {
   "codemirror_mode": {
    "name": "ipython",
    "version": 3
   },
   "file_extension": ".py",
   "mimetype": "text/x-python",
   "name": "python",
   "nbconvert_exporter": "python",
   "pygments_lexer": "ipython3",
   "version": "3.6.6"
  }
 },
 "nbformat": 4,
 "nbformat_minor": 2
}
